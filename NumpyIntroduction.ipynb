{
 "cells": [
  {
   "cell_type": "markdown",
   "id": "talented-introduction",
   "metadata": {},
   "source": [
    "NumPy arrays are like “lists” — but better because it’s (1) faster, (2) more convenient, and (3) takes up less memory\n"
   ]
  },
  {
   "cell_type": "code",
   "execution_count": 1,
   "id": "activated-reason",
   "metadata": {},
   "outputs": [
    {
     "name": "stdout",
     "output_type": "stream",
     "text": [
      "Requirement already satisfied: numpy in c:\\python\\python38\\lib\\site-packages (1.21.2)\n"
     ]
    }
   ],
   "source": [
    "!pip install numpy"
   ]
  },
  {
   "cell_type": "code",
   "execution_count": 4,
   "id": "authorized-binding",
   "metadata": {},
   "outputs": [],
   "source": [
    "import numpy as np"
   ]
  },
  {
   "cell_type": "markdown",
   "id": "ecological-noise",
   "metadata": {},
   "source": [
    "There are different ways of creating an array, but this is the simplest method. You can create one or more dimensional arrays.\n",
    "np array creates an array np.array([1,2,3]) one dimensional or 2 dimensional np.array([[1,2,3],[4,5,6]])"
   ]
  },
  {
   "cell_type": "code",
   "execution_count": 8,
   "id": "packed-density",
   "metadata": {},
   "outputs": [
    {
     "name": "stdout",
     "output_type": "stream",
     "text": [
      "[100  90  92  95  70  84  80  75  89]\n",
      "[1 3 5 7 9]\n",
      "[ 1.  4.  7. 10.]\n"
     ]
    }
   ],
   "source": [
    "english_grade = [100,90,92,95,70,84,80,75,89]\n",
    "E = np.array(english_grade)\n",
    "print(E)\n"
   ]
  },
  {
   "cell_type": "markdown",
   "id": "pointed-boost",
   "metadata": {},
   "source": [
    "Creates an array start,stop, step"
   ]
  },
  {
   "cell_type": "code",
   "execution_count": null,
   "id": "specialized-belfast",
   "metadata": {},
   "outputs": [],
   "source": [
    "print(np.arange(1,10,2))\n"
   ]
  },
  {
   "cell_type": "markdown",
   "id": "humanitarian-insured",
   "metadata": {},
   "source": [
    "Similar to arange but use sample number, \n",
    "start,stop, num. Give me 4 evenly space numbers within 1 and 10 \n",
    "\n",
    "Возвращает одномерный массив из указанного количества элементов, значения которых равномерно распределенны внутри заданного интервала. "
   ]
  },
  {
   "cell_type": "code",
   "execution_count": 11,
   "id": "unlikely-flour",
   "metadata": {},
   "outputs": [
    {
     "name": "stdout",
     "output_type": "stream",
     "text": [
      "[ 1.  4.  7. 10.]\n"
     ]
    }
   ],
   "source": [
    "print(np.linspace(1,10,4))"
   ]
  },
  {
   "cell_type": "markdown",
   "id": "extraordinary-potter",
   "metadata": {},
   "source": [
    "Gives an element without chaning it data\n",
    "You can see that in this example, there are three elements (starting with 0, 4, 8) on axis 0, and four elements on axis 1 (starting with 0, 1, 2, 3).\n"
   ]
  },
  {
   "cell_type": "code",
   "execution_count": 9,
   "id": "handed-machinery",
   "metadata": {},
   "outputs": [
    {
     "name": "stdout",
     "output_type": "stream",
     "text": [
      "[[ 0  1  2  3]\n",
      " [ 4  5  6  7]\n",
      " [ 8  9 10 11]]\n"
     ]
    }
   ],
   "source": [
    "resh = np.arange(12).reshape(3,4)\n",
    "print(resh)"
   ]
  },
  {
   "cell_type": "markdown",
   "id": "cooked-jewelry",
   "metadata": {},
   "source": [
    "For axis 0, you get 12 as the first element because 0 + 4 + 8 = 12.\n",
    "For axis 1, you get 6 as the first element because 0 + 1 + 2 + 3 = 6."
   ]
  },
  {
   "cell_type": "code",
   "execution_count": 10,
   "id": "european-access",
   "metadata": {},
   "outputs": [
    {
     "name": "stdout",
     "output_type": "stream",
     "text": [
      "[12 15 18 21]\n",
      "[ 6 22 38]\n"
     ]
    }
   ],
   "source": [
    "sum0 = np.sum(resh, axis=0)\n",
    "sum1 = np.sum(resh, axis=1)\n",
    "print(sum0)\n",
    "print(sum1)"
   ]
  },
  {
   "cell_type": "markdown",
   "id": "ecological-summer",
   "metadata": {},
   "source": [
    "Returns the variance of the array of the elements along the specified axis"
   ]
  },
  {
   "cell_type": "code",
   "execution_count": 13,
   "id": "superior-setup",
   "metadata": {},
   "outputs": [
    {
     "name": "stdout",
     "output_type": "stream",
     "text": [
      "1.25\n"
     ]
    }
   ],
   "source": [
    "print(np.var(np.array([[1,2],[3,4]])))"
   ]
  },
  {
   "cell_type": "code",
   "execution_count": null,
   "id": "touched-cabin",
   "metadata": {},
   "outputs": [],
   "source": [
    "Returns the standart deviation"
   ]
  },
  {
   "cell_type": "code",
   "execution_count": 14,
   "id": "alien-revolution",
   "metadata": {},
   "outputs": [
    {
     "name": "stdout",
     "output_type": "stream",
     "text": [
      "1.118033988749895\n"
     ]
    }
   ],
   "source": [
    "print(np.std(np.array([[1,2],[3,4]])))"
   ]
  },
  {
   "cell_type": "markdown",
   "id": "attached-import",
   "metadata": {},
   "source": [
    "Shuffle the array along the first axis of a multu-dimenstional array"
   ]
  },
  {
   "cell_type": "code",
   "execution_count": 15,
   "id": "advisory-large",
   "metadata": {},
   "outputs": [
    {
     "name": "stdout",
     "output_type": "stream",
     "text": [
      "[100, 80, 70, 92, 84, 95, 89, 90, 75]\n"
     ]
    }
   ],
   "source": [
    "english_grade = [100,90,92,95,70,84,80,75,89]\n",
    "np.random.shuffle(english_grade)\n",
    "print(english_grade)"
   ]
  },
  {
   "cell_type": "markdown",
   "id": "numeric-opposition",
   "metadata": {},
   "source": [
    "Extract part of array,\n",
    "start, stop, index"
   ]
  },
  {
   "cell_type": "code",
   "execution_count": 18,
   "id": "acoustic-musical",
   "metadata": {},
   "outputs": [
    {
     "name": "stdout",
     "output_type": "stream",
     "text": [
      "[0 1 2 3 4 5 6 7 8 9]\n",
      "slice(2, 7, 2)\n",
      "[2 4 6]\n",
      "[2 4 6]\n"
     ]
    }
   ],
   "source": [
    "a = np.arange(10)\n",
    "print(a)\n",
    "s = slice(2,7,2)\n",
    "print(s)\n",
    "print(a[s])\n",
    "# from 2 to 7 with step 2\n",
    "t = a[2:7:2]\n",
    "print(t)"
   ]
  },
  {
   "cell_type": "markdown",
   "id": "orange-range",
   "metadata": {},
   "source": [
    "Return contigious flattened array "
   ]
  }
 ],
 "metadata": {
  "kernelspec": {
   "display_name": "Python 3",
   "language": "python",
   "name": "python3"
  },
  "language_info": {
   "codemirror_mode": {
    "name": "ipython",
    "version": 3
   },
   "file_extension": ".py",
   "mimetype": "text/x-python",
   "name": "python",
   "nbconvert_exporter": "python",
   "pygments_lexer": "ipython3",
   "version": "3.8.2"
  }
 },
 "nbformat": 4,
 "nbformat_minor": 5
}
