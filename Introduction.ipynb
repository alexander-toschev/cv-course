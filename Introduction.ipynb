{
 "cells": [
  {
   "cell_type": "markdown",
   "metadata": {
    "colab_type": "text",
    "id": "view-in-github"
   },
   "source": [
    "<a href=\"https://colab.research.google.com/github/alexander-toschev/cv-course/blob/main/Introduction.ipynb\" target=\"_parent\"><img src=\"https://colab.research.google.com/assets/colab-badge.svg\" alt=\"Open In Colab\"/></a>"
   ]
  },
  {
   "cell_type": "code",
   "execution_count": null,
   "metadata": {
    "id": "m4O1VhDzYsqG"
   },
   "outputs": [],
   "source": [
    "import numpy as np\n",
    "import pandas as pd\n",
    "import cv2 as cv \n",
    "from google.colab.patches import cv2_imshow # for image display\n",
    "from skimage import io\n",
    "from PIL import Image \n",
    "import matplotlib.pylab as plt"
   ]
  },
  {
   "cell_type": "markdown",
   "metadata": {
    "id": "mGuLaHAYoHmN"
   },
   "source": []
  },
  {
   "cell_type": "code",
   "execution_count": null,
   "metadata": {
    "id": "ExiIv-YUoNY5"
   },
   "outputs": [],
   "source": [
    "# Create a list to store the urls of the images\n",
    "urls = [\"https://iiif.lib.ncsu.edu/iiif/0052574/full/800,/0/default.jpg\",\n",
    "       \"https://iiif.lib.ncsu.edu/iiif/0016007/full/800,/0/default.jpg\",\n",
    "      \"https://placekitten.com/800/571\"]  \n",
    "# Read and display the image\n",
    "# loop over the image URLs, you could store several image urls in the list\n",
    "\n",
    "for url in urls:\n",
    "  image = io.imread(url) \n",
    "  image_2 = cv.cvtColor(image, cv.COLOR_BGR2RGB)\n",
    "  final_frame = cv.hconcat((image, image_2))\n",
    "  cv2_imshow(final_frame)\n",
    "  print('\\n')"
   ]
  }
 ],
 "metadata": {
  "colab": {
   "authorship_tag": "ABX9TyN3O8pOUavTqMigp7XXgNV7",
   "include_colab_link": true,
   "name": "Introduction.ipynb",
   "provenance": []
  },
  "kernelspec": {
   "display_name": "Python 3 (ipykernel)",
   "language": "python",
   "name": "python3"
  },
  "language_info": {
   "codemirror_mode": {
    "name": "ipython",
    "version": 3
   },
   "file_extension": ".py",
   "mimetype": "text/x-python",
   "name": "python",
   "nbconvert_exporter": "python",
   "pygments_lexer": "ipython3",
   "version": "3.8.16"
  }
 },
 "nbformat": 4,
 "nbformat_minor": 4
}
