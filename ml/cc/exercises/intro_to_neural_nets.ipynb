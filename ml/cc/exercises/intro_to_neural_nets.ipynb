{
 "cells": [
  {
   "cell_type": "code",
   "execution_count": 1,
   "metadata": {
    "id": "wDlWLbfkJtvu"
   },
   "outputs": [],
   "source": [
    "#@title Copyright 2020 Google LLC. Double-click here for license information.\n",
    "# Licensed under the Apache License, Version 2.0 (the \"License\");\n",
    "# you may not use this file except in compliance with the License.\n",
    "# You may obtain a copy of the License at\n",
    "#\n",
    "# https://www.apache.org/licenses/LICENSE-2.0\n",
    "#\n",
    "# Unless required by applicable law or agreed to in writing, software\n",
    "# distributed under the License is distributed on an \"AS IS\" BASIS,\n",
    "# WITHOUT WARRANTIES OR CONDITIONS OF ANY KIND, either express or implied.\n",
    "# See the License for the specific language governing permissions and\n",
    "# limitations under the License."
   ]
  },
  {
   "cell_type": "markdown",
   "metadata": {
    "id": "T4r2z30vJSbA"
   },
   "source": [
    "# Colabs\n",
    "\n",
    "Machine Learning Crash Course uses Colaboratories (Colabs) for all programming exercises. Colab is Google's implementation of [Jupyter Notebook](https://jupyter.org/). For more information about Colabs and how to use them, go to [Welcome to Colaboratory](https://research.google.com/colaboratory)."
   ]
  },
  {
   "cell_type": "markdown",
   "metadata": {
    "id": "TL5y5fY9Jy_x"
   },
   "source": [
    "# Introduction to Neural Nets\n",
    "\n",
    "This Colab builds a deep neural network to perform more sophisticated linear regression than the earlier Colabs."
   ]
  },
  {
   "cell_type": "markdown",
   "metadata": {
    "id": "7RDY3EeAluPd"
   },
   "source": [
    "## Learning Objectives:\n",
    "\n",
    "After doing this Colab, you'll know how to do the following:\n",
    "\n",
    "  * Create a simple deep neural network.\n",
    "  * Tune the hyperparameters for a simple deep neural network."
   ]
  },
  {
   "cell_type": "markdown",
   "metadata": {
    "id": "XGj0PNaJlubZ"
   },
   "source": [
    "## The Dataset\n",
    "  \n",
    "Like several of the previous Colabs, this Colab uses the [California Housing Dataset](https://developers.google.com/machine-learning/crash-course/california-housing-data-description)."
   ]
  },
  {
   "cell_type": "markdown",
   "metadata": {
    "id": "xchnxAsaKKqO"
   },
   "source": [
    "## Import relevant modules\n",
    "\n",
    "The following hidden code cell imports the necessary code to run the code in the rest of this Colaboratory."
   ]
  },
  {
   "cell_type": "code",
   "execution_count": 3,
   "metadata": {},
   "outputs": [
    {
     "name": "stdout",
     "output_type": "stream",
     "text": [
      "Collecting seaborn\n",
      "  Downloading seaborn-0.13.2-py3-none-any.whl (294 kB)\n",
      "\u001b[2K     \u001b[90m━━━━━━━━━━━━━━━━━━━━━━━━━━━━━━━━━━━━━━━\u001b[0m \u001b[32m294.9/294.9 kB\u001b[0m \u001b[31m1.3 MB/s\u001b[0m eta \u001b[36m0:00:00\u001b[0ma \u001b[36m0:00:01\u001b[0m\n",
      "\u001b[?25hRequirement already satisfied: numpy!=1.24.0,>=1.20 in /Users/alex/miniforge3/envs/mac-ml/lib/python3.8/site-packages (from seaborn) (1.23.3)\n",
      "Requirement already satisfied: pandas>=1.2 in /Users/alex/miniforge3/envs/mac-ml/lib/python3.8/site-packages (from seaborn) (1.5.3)\n",
      "Requirement already satisfied: matplotlib!=3.6.1,>=3.4 in /Users/alex/miniforge3/envs/mac-ml/lib/python3.8/site-packages (from seaborn) (3.6.2)\n",
      "Requirement already satisfied: cycler>=0.10 in /Users/alex/miniforge3/envs/mac-ml/lib/python3.8/site-packages (from matplotlib!=3.6.1,>=3.4->seaborn) (0.11.0)\n",
      "Requirement already satisfied: packaging>=20.0 in /Users/alex/miniforge3/envs/mac-ml/lib/python3.8/site-packages (from matplotlib!=3.6.1,>=3.4->seaborn) (23.0)\n",
      "Requirement already satisfied: fonttools>=4.22.0 in /Users/alex/miniforge3/envs/mac-ml/lib/python3.8/site-packages (from matplotlib!=3.6.1,>=3.4->seaborn) (4.37.2)\n",
      "Requirement already satisfied: pyparsing>=2.2.1 in /Users/alex/miniforge3/envs/mac-ml/lib/python3.8/site-packages (from matplotlib!=3.6.1,>=3.4->seaborn) (3.0.9)\n",
      "Requirement already satisfied: kiwisolver>=1.0.1 in /Users/alex/miniforge3/envs/mac-ml/lib/python3.8/site-packages (from matplotlib!=3.6.1,>=3.4->seaborn) (1.4.4)\n",
      "Requirement already satisfied: pillow>=6.2.0 in /Users/alex/miniforge3/envs/mac-ml/lib/python3.8/site-packages (from matplotlib!=3.6.1,>=3.4->seaborn) (9.4.0)\n",
      "Requirement already satisfied: contourpy>=1.0.1 in /Users/alex/miniforge3/envs/mac-ml/lib/python3.8/site-packages (from matplotlib!=3.6.1,>=3.4->seaborn) (1.0.5)\n",
      "Requirement already satisfied: python-dateutil>=2.7 in /Users/alex/miniforge3/envs/mac-ml/lib/python3.8/site-packages (from matplotlib!=3.6.1,>=3.4->seaborn) (2.8.2)\n",
      "Requirement already satisfied: pytz>=2020.1 in /Users/alex/miniforge3/envs/mac-ml/lib/python3.8/site-packages (from pandas>=1.2->seaborn) (2023.3)\n",
      "Requirement already satisfied: six>=1.5 in /Users/alex/miniforge3/envs/mac-ml/lib/python3.8/site-packages (from python-dateutil>=2.7->matplotlib!=3.6.1,>=3.4->seaborn) (1.16.0)\n",
      "\u001b[33mWARNING: Error parsing requirements for jupyter: [Errno 2] No such file or directory: '/Users/alex/miniforge3/envs/mac-ml/lib/python3.8/site-packages/jupyter-1.0.0.dist-info/METADATA'\u001b[0m\u001b[33m\n",
      "\u001b[0mInstalling collected packages: seaborn\n",
      "Successfully installed seaborn-0.13.2\n"
     ]
    }
   ],
   "source": [
    "!pip install seaborn\n"
   ]
  },
  {
   "cell_type": "code",
   "execution_count": 29,
   "metadata": {
    "id": "9n9_cTveKmse"
   },
   "outputs": [
    {
     "name": "stdout",
     "output_type": "stream",
     "text": [
      "Imported modules.\n"
     ]
    }
   ],
   "source": [
    "#@title Import relevant modules\n",
    "import numpy as np\n",
    "import pandas as pd\n",
    "import tensorflow as tf\n",
    "from tensorflow.keras import layers\n",
    "from matplotlib import pyplot as plt\n",
    "import seaborn as sns\n",
    "\n",
    "# The following lines adjust the granularity of reporting. \n",
    "pd.options.display.max_rows = 10\n",
    "pd.options.display.float_format = \"{:.1f}\".format\n",
    "\n",
    "print(\"Imported modules.\")"
   ]
  },
  {
   "cell_type": "markdown",
   "metadata": {
    "id": "X_TaJhU4KcuY"
   },
   "source": [
    "## Load the dataset\n",
    "\n",
    "Like most of the previous Colab exercises, this exercise uses the California Housing Dataset.  The following code cell loads the separate .csv files and creates the following two pandas DataFrames:\n",
    "\n",
    "* `train_df`, which contains the training set\n",
    "* `test_df`, which contains the test set\n",
    "   "
   ]
  },
  {
   "cell_type": "code",
   "execution_count": 6,
   "metadata": {
    "id": "JZlvdpyYKx7V"
   },
   "outputs": [],
   "source": [
    "train_df = pd.read_csv(\"https://download.mlcc.google.com/mledu-datasets/california_housing_train.csv\")\n",
    "train_df = train_df.reindex(np.random.permutation(train_df.index)) # shuffle the examples\n",
    "test_df = pd.read_csv(\"https://download.mlcc.google.com/mledu-datasets/california_housing_test.csv\")"
   ]
  },
  {
   "cell_type": "markdown",
   "metadata": {
    "id": "8ldP-5z1B2vL"
   },
   "source": [
    "## Normalize values\n",
    "\n",
    "When building a model with multiple features, the values of each feature should cover roughly the same range.  The following code cell normalizes datasets by converting each raw value to its Z-score. (For more information about Z-scores, see the Classification exercise.)"
   ]
  },
  {
   "cell_type": "code",
   "execution_count": 7,
   "metadata": {
    "cellView": "form",
    "id": "g8HC-TDgB1D1"
   },
   "outputs": [
    {
     "name": "stdout",
     "output_type": "stream",
     "text": [
      "Normalized the values.\n"
     ]
    }
   ],
   "source": [
    "#@title Convert raw values to their Z-scores \n",
    "\n",
    "# Calculate the Z-scores of each column in the training set:\n",
    "train_df_mean = train_df.mean()\n",
    "train_df_std = train_df.std()\n",
    "train_df_norm = (train_df - train_df_mean)/train_df_std\n",
    "\n",
    "# Calculate the Z-scores of each column in the test set.\n",
    "test_df_mean = test_df.mean()\n",
    "test_df_std = test_df.std()\n",
    "test_df_norm = (test_df - test_df_mean)/test_df_std\n",
    "\n",
    "print(\"Normalized the values.\")"
   ]
  },
  {
   "cell_type": "markdown",
   "metadata": {
    "id": "b9ehCgIRjTxy"
   },
   "source": [
    "## Represent data\n",
    "\n",
    "The following code cell creates a feature layer containing three features:\n",
    "\n",
    "* `latitude` X `longitude` (a feature cross)\n",
    "* `median_income`\n",
    "* `population`\n",
    "\n",
    "This code cell specifies the features that you'll ultimately train the model on and how each of those features will be represented. The transformations (collected in `my_feature_layer`) don't actually get applied until you pass a DataFrame to it, which will happen when we train the model. "
   ]
  },
  {
   "cell_type": "code",
   "execution_count": 8,
   "metadata": {
    "id": "8EkNAQhnjSu-"
   },
   "outputs": [],
   "source": [
    "# Create an empty list that will eventually hold all created feature columns.\n",
    "feature_columns = []\n",
    "\n",
    "# We scaled all the columns, including latitude and longitude, into their\n",
    "# Z scores. So, instead of picking a resolution in degrees, we're going\n",
    "# to use resolution_in_Zs.  A resolution_in_Zs of 1 corresponds to \n",
    "# a full standard deviation. \n",
    "resolution_in_Zs = 0.3  # 3/10 of a standard deviation.\n",
    "\n",
    "# Create a bucket feature column for latitude.\n",
    "latitude_as_a_numeric_column = tf.feature_column.numeric_column(\"latitude\")\n",
    "latitude_boundaries = list(np.arange(int(min(train_df_norm['latitude'])), \n",
    "                                     int(max(train_df_norm['latitude'])), \n",
    "                                     resolution_in_Zs))\n",
    "latitude = tf.feature_column.bucketized_column(latitude_as_a_numeric_column, latitude_boundaries)\n",
    "\n",
    "# Create a bucket feature column for longitude.\n",
    "longitude_as_a_numeric_column = tf.feature_column.numeric_column(\"longitude\")\n",
    "longitude_boundaries = list(np.arange(int(min(train_df_norm['longitude'])), \n",
    "                                      int(max(train_df_norm['longitude'])), \n",
    "                                      resolution_in_Zs))\n",
    "longitude = tf.feature_column.bucketized_column(longitude_as_a_numeric_column, \n",
    "                                                longitude_boundaries)\n",
    "\n",
    "# Create a feature cross of latitude and longitude.\n",
    "latitude_x_longitude = tf.feature_column.crossed_column([latitude, longitude], hash_bucket_size=100)\n",
    "crossed_feature = tf.feature_column.indicator_column(latitude_x_longitude)\n",
    "feature_columns.append(crossed_feature)  \n",
    "\n",
    "# Represent median_income as a floating-point value.\n",
    "median_income = tf.feature_column.numeric_column(\"median_income\")\n",
    "feature_columns.append(median_income)\n",
    "\n",
    "# Represent population as a floating-point value.\n",
    "population = tf.feature_column.numeric_column(\"population\")\n",
    "feature_columns.append(population)\n",
    "\n",
    "# Convert the list of feature columns into a layer that will later be fed into\n",
    "# the model. \n",
    "my_feature_layer = tf.keras.layers.DenseFeatures(feature_columns)"
   ]
  },
  {
   "cell_type": "markdown",
   "metadata": {
    "id": "Ak_TMAzGOIFq"
   },
   "source": [
    "## Build a linear regression model as a baseline\n",
    "\n",
    "Before creating a deep neural net, find a [baseline](https://developers.google.com/machine-learning/glossary/#baseline) loss by running a simple linear regression model that uses the feature layer you just created. \n"
   ]
  },
  {
   "cell_type": "code",
   "execution_count": 10,
   "metadata": {
    "id": "QF0BFRXTOeR3"
   },
   "outputs": [
    {
     "name": "stdout",
     "output_type": "stream",
     "text": [
      "Defined the plot_the_loss_curve function.\n"
     ]
    }
   ],
   "source": [
    "#@title Define the plotting function.\n",
    "\n",
    "def plot_the_loss_curve(epochs, mse):\n",
    "  \"\"\"Plot a curve of loss vs. epoch.\"\"\"\n",
    "\n",
    "  plt.figure()\n",
    "  plt.xlabel(\"Epoch\")\n",
    "  plt.ylabel(\"Mean Squared Error\")\n",
    "\n",
    "  plt.plot(epochs, mse, label=\"Loss\")\n",
    "  plt.legend()\n",
    "  plt.ylim([mse.min()*0.95, mse.max() * 1.03])\n",
    "  plt.show()  \n",
    "\n",
    "print(\"Defined the plot_the_loss_curve function.\")"
   ]
  },
  {
   "cell_type": "code",
   "execution_count": 27,
   "metadata": {
    "cellView": "form",
    "id": "RW4Qe710LgnG"
   },
   "outputs": [
    {
     "name": "stdout",
     "output_type": "stream",
     "text": [
      "Defined the create_model and train_model functions.\n"
     ]
    }
   ],
   "source": [
    "#@title Define functions to create and train a linear regression model\n",
    "def create_model(my_learning_rate, feature_layer):\n",
    "  \"\"\"Create and compile a simple linear regression model.\"\"\"\n",
    "  # Most simple tf.keras models are sequential.\n",
    "  model = tf.keras.models.Sequential()\n",
    "\n",
    "  # Add the layer containing the feature columns to the model.\n",
    "  model.add(feature_layer)\n",
    "\n",
    "  # Add one linear layer to the model to yield a simple linear regressor.\n",
    "  model.add(tf.keras.layers.Dense(units=1, input_shape=(1,)))\n",
    "\n",
    "  # Construct the layers into a model that TensorFlow can execute.\n",
    "  model.compile(optimizer=tf.keras.optimizers.experimental.RMSprop(learning_rate=my_learning_rate),\n",
    "                loss=\"mean_squared_error\",\n",
    "                metrics=[tf.keras.metrics.MeanSquaredError()])\n",
    "\n",
    "  return model           \n",
    "\n",
    "\n",
    "def train_model(model, dataset, epochs, batch_size, label_name):\n",
    "  \"\"\"Feed a dataset into the model in order to train it.\"\"\"\n",
    "\n",
    "  # Split the dataset into features and label.\n",
    "  features = {name:np.array(value) for name, value in dataset.items()}\n",
    "  label = np.array(features.pop(label_name))\n",
    "  history = model.fit(x=features, y=label, batch_size=batch_size,\n",
    "                      epochs=epochs, shuffle=True)\n",
    "\n",
    "  # Get details that will be useful for plotting the loss curve.\n",
    "  epochs = history.epoch\n",
    "  hist = pd.DataFrame(history.history)\n",
    "  rmse = hist[\"mean_squared_error\"]\n",
    "\n",
    "  return epochs, rmse   \n",
    "\n",
    "print(\"Defined the create_model and train_model functions.\")"
   ]
  },
  {
   "cell_type": "code",
   "execution_count": 26,
   "metadata": {},
   "outputs": [
    {
     "name": "stdout",
     "output_type": "stream",
     "text": [
      "Collecting tensorflow-macos==2.9\n",
      "  Downloading tensorflow_macos-2.9.0-cp38-cp38-macosx_11_0_arm64.whl (200.5 MB)\n",
      "\u001b[2K     \u001b[90m━━━━━━━━━━━━━━━━━━━━━━━━━━━━━━━━━━━━━━━\u001b[0m \u001b[32m200.5/200.5 MB\u001b[0m \u001b[31m6.7 MB/s\u001b[0m eta \u001b[36m0:00:00\u001b[0m00:01\u001b[0m00:02\u001b[0m\n",
      "\u001b[?25hCollecting tensorboard<2.10,>=2.9\n",
      "  Using cached tensorboard-2.9.1-py3-none-any.whl (5.8 MB)\n",
      "Collecting keras<2.10.0,>=2.9.0rc0\n",
      "  Using cached keras-2.9.0-py2.py3-none-any.whl (1.6 MB)\n",
      "Collecting tensorflow-estimator<2.10.0,>=2.9.0rc0\n",
      "  Using cached tensorflow_estimator-2.9.0-py2.py3-none-any.whl (438 kB)\n",
      "Requirement already satisfied: packaging in /Users/alex/miniforge3/envs/mac-ml/lib/python3.8/site-packages (from tensorflow-macos==2.9) (23.0)\n",
      "Requirement already satisfied: opt-einsum>=2.3.2 in /Users/alex/miniforge3/envs/mac-ml/lib/python3.8/site-packages (from tensorflow-macos==2.9) (3.3.0)\n",
      "Requirement already satisfied: typing-extensions>=3.6.6 in /Users/alex/miniforge3/envs/mac-ml/lib/python3.8/site-packages (from tensorflow-macos==2.9) (4.5.0)\n",
      "Requirement already satisfied: google-pasta>=0.1.1 in /Users/alex/miniforge3/envs/mac-ml/lib/python3.8/site-packages (from tensorflow-macos==2.9) (0.2.0)\n",
      "Requirement already satisfied: setuptools in /Users/alex/miniforge3/envs/mac-ml/lib/python3.8/site-packages (from tensorflow-macos==2.9) (67.6.1)\n",
      "Requirement already satisfied: six>=1.12.0 in /Users/alex/miniforge3/envs/mac-ml/lib/python3.8/site-packages (from tensorflow-macos==2.9) (1.16.0)\n",
      "Requirement already satisfied: protobuf>=3.9.2 in /Users/alex/miniforge3/envs/mac-ml/lib/python3.8/site-packages (from tensorflow-macos==2.9) (4.25.3)\n",
      "Requirement already satisfied: grpcio<2.0,>=1.24.3 in /Users/alex/miniforge3/envs/mac-ml/lib/python3.8/site-packages (from tensorflow-macos==2.9) (1.50.0)\n",
      "Requirement already satisfied: gast<=0.4.0,>=0.2.1 in /Users/alex/miniforge3/envs/mac-ml/lib/python3.8/site-packages (from tensorflow-macos==2.9) (0.4.0)\n",
      "Requirement already satisfied: keras-preprocessing>=1.1.1 in /Users/alex/miniforge3/envs/mac-ml/lib/python3.8/site-packages (from tensorflow-macos==2.9) (1.1.2)\n",
      "Requirement already satisfied: absl-py>=1.0.0 in /Users/alex/miniforge3/envs/mac-ml/lib/python3.8/site-packages (from tensorflow-macos==2.9) (1.4.0)\n",
      "Requirement already satisfied: termcolor>=1.1.0 in /Users/alex/miniforge3/envs/mac-ml/lib/python3.8/site-packages (from tensorflow-macos==2.9) (2.1.0)\n",
      "Requirement already satisfied: wrapt>=1.11.0 in /Users/alex/miniforge3/envs/mac-ml/lib/python3.8/site-packages (from tensorflow-macos==2.9) (1.14.1)\n",
      "Requirement already satisfied: h5py>=2.9.0 in /Users/alex/miniforge3/envs/mac-ml/lib/python3.8/site-packages (from tensorflow-macos==2.9) (3.7.0)\n",
      "Requirement already satisfied: astunparse>=1.6.0 in /Users/alex/miniforge3/envs/mac-ml/lib/python3.8/site-packages (from tensorflow-macos==2.9) (1.6.3)\n",
      "Requirement already satisfied: numpy>=1.20 in /Users/alex/miniforge3/envs/mac-ml/lib/python3.8/site-packages (from tensorflow-macos==2.9) (1.23.3)\n",
      "Collecting flatbuffers<2,>=1.12\n",
      "  Using cached flatbuffers-1.12-py2.py3-none-any.whl (15 kB)\n",
      "Requirement already satisfied: libclang>=13.0.0 in /Users/alex/miniforge3/envs/mac-ml/lib/python3.8/site-packages (from tensorflow-macos==2.9) (14.0.6)\n",
      "Requirement already satisfied: wheel<1.0,>=0.23.0 in /Users/alex/miniforge3/envs/mac-ml/lib/python3.8/site-packages (from astunparse>=1.6.0->tensorflow-macos==2.9) (0.40.0)\n",
      "Requirement already satisfied: tensorboard-plugin-wit>=1.6.0 in /Users/alex/miniforge3/envs/mac-ml/lib/python3.8/site-packages (from tensorboard<2.10,>=2.9->tensorflow-macos==2.9) (1.8.1)\n",
      "Requirement already satisfied: requests<3,>=2.21.0 in /Users/alex/miniforge3/envs/mac-ml/lib/python3.8/site-packages (from tensorboard<2.10,>=2.9->tensorflow-macos==2.9) (2.28.2)\n",
      "Collecting protobuf>=3.9.2\n",
      "  Using cached protobuf-3.19.6-py2.py3-none-any.whl (162 kB)\n",
      "Collecting tensorboard-data-server<0.7.0,>=0.6.0\n",
      "  Using cached tensorboard_data_server-0.6.1-py3-none-any.whl (2.4 kB)\n",
      "Requirement already satisfied: werkzeug>=1.0.1 in /Users/alex/miniforge3/envs/mac-ml/lib/python3.8/site-packages (from tensorboard<2.10,>=2.9->tensorflow-macos==2.9) (2.3.3)\n",
      "Collecting google-auth-oauthlib<0.5,>=0.4.1\n",
      "  Using cached google_auth_oauthlib-0.4.6-py2.py3-none-any.whl (18 kB)\n",
      "Requirement already satisfied: google-auth<3,>=1.6.3 in /Users/alex/miniforge3/envs/mac-ml/lib/python3.8/site-packages (from tensorboard<2.10,>=2.9->tensorflow-macos==2.9) (2.17.0)\n",
      "Requirement already satisfied: markdown>=2.6.8 in /Users/alex/miniforge3/envs/mac-ml/lib/python3.8/site-packages (from tensorboard<2.10,>=2.9->tensorflow-macos==2.9) (3.4.3)\n",
      "Requirement already satisfied: rsa<5,>=3.1.4 in /Users/alex/miniforge3/envs/mac-ml/lib/python3.8/site-packages (from google-auth<3,>=1.6.3->tensorboard<2.10,>=2.9->tensorflow-macos==2.9) (4.9)\n",
      "Requirement already satisfied: cachetools<6.0,>=2.0.0 in /Users/alex/miniforge3/envs/mac-ml/lib/python3.8/site-packages (from google-auth<3,>=1.6.3->tensorboard<2.10,>=2.9->tensorflow-macos==2.9) (5.3.0)\n",
      "Requirement already satisfied: pyasn1-modules>=0.2.1 in /Users/alex/miniforge3/envs/mac-ml/lib/python3.8/site-packages (from google-auth<3,>=1.6.3->tensorboard<2.10,>=2.9->tensorflow-macos==2.9) (0.2.8)\n",
      "Requirement already satisfied: requests-oauthlib>=0.7.0 in /Users/alex/miniforge3/envs/mac-ml/lib/python3.8/site-packages (from google-auth-oauthlib<0.5,>=0.4.1->tensorboard<2.10,>=2.9->tensorflow-macos==2.9) (1.3.1)\n",
      "Requirement already satisfied: importlib-metadata>=4.4 in /Users/alex/miniforge3/envs/mac-ml/lib/python3.8/site-packages (from markdown>=2.6.8->tensorboard<2.10,>=2.9->tensorflow-macos==2.9) (6.1.0)\n",
      "Requirement already satisfied: certifi>=2017.4.17 in /Users/alex/miniforge3/envs/mac-ml/lib/python3.8/site-packages (from requests<3,>=2.21.0->tensorboard<2.10,>=2.9->tensorflow-macos==2.9) (2022.12.7)\n",
      "Requirement already satisfied: charset-normalizer<4,>=2 in /Users/alex/miniforge3/envs/mac-ml/lib/python3.8/site-packages (from requests<3,>=2.21.0->tensorboard<2.10,>=2.9->tensorflow-macos==2.9) (2.1.1)\n",
      "Requirement already satisfied: urllib3<1.27,>=1.21.1 in /Users/alex/miniforge3/envs/mac-ml/lib/python3.8/site-packages (from requests<3,>=2.21.0->tensorboard<2.10,>=2.9->tensorflow-macos==2.9) (1.26.15)\n",
      "Requirement already satisfied: idna<4,>=2.5 in /Users/alex/miniforge3/envs/mac-ml/lib/python3.8/site-packages (from requests<3,>=2.21.0->tensorboard<2.10,>=2.9->tensorflow-macos==2.9) (3.4)\n",
      "Requirement already satisfied: MarkupSafe>=2.1.1 in /Users/alex/miniforge3/envs/mac-ml/lib/python3.8/site-packages (from werkzeug>=1.0.1->tensorboard<2.10,>=2.9->tensorflow-macos==2.9) (2.1.2)\n",
      "Requirement already satisfied: zipp>=0.5 in /Users/alex/miniforge3/envs/mac-ml/lib/python3.8/site-packages (from importlib-metadata>=4.4->markdown>=2.6.8->tensorboard<2.10,>=2.9->tensorflow-macos==2.9) (3.15.0)\n",
      "Requirement already satisfied: pyasn1<0.5.0,>=0.4.6 in /Users/alex/miniforge3/envs/mac-ml/lib/python3.8/site-packages (from pyasn1-modules>=0.2.1->google-auth<3,>=1.6.3->tensorboard<2.10,>=2.9->tensorflow-macos==2.9) (0.4.8)\n",
      "Requirement already satisfied: oauthlib>=3.0.0 in /Users/alex/miniforge3/envs/mac-ml/lib/python3.8/site-packages (from requests-oauthlib>=0.7.0->google-auth-oauthlib<0.5,>=0.4.1->tensorboard<2.10,>=2.9->tensorflow-macos==2.9) (3.2.2)\n",
      "\u001b[33mWARNING: Error parsing requirements for jupyter: [Errno 2] No such file or directory: '/Users/alex/miniforge3/envs/mac-ml/lib/python3.8/site-packages/jupyter-1.0.0.dist-info/METADATA'\u001b[0m\u001b[33m\n",
      "\u001b[0mInstalling collected packages: keras, flatbuffers, tensorflow-estimator, tensorboard-data-server, protobuf, google-auth-oauthlib, tensorboard, tensorflow-macos\n",
      "  Attempting uninstall: keras\n",
      "    Found existing installation: keras 2.13.1\n",
      "    Uninstalling keras-2.13.1:\n",
      "      Successfully uninstalled keras-2.13.1\n",
      "  Attempting uninstall: flatbuffers\n",
      "    Found existing installation: flatbuffers 23.5.26\n",
      "    Uninstalling flatbuffers-23.5.26:\n",
      "      Successfully uninstalled flatbuffers-23.5.26\n",
      "  Attempting uninstall: tensorflow-estimator\n",
      "    Found existing installation: tensorflow-estimator 2.13.0\n",
      "    Uninstalling tensorflow-estimator-2.13.0:\n",
      "      Successfully uninstalled tensorflow-estimator-2.13.0\n",
      "  Attempting uninstall: tensorboard-data-server\n",
      "    Found existing installation: tensorboard-data-server 0.7.2\n",
      "    Uninstalling tensorboard-data-server-0.7.2:\n",
      "      Successfully uninstalled tensorboard-data-server-0.7.2\n",
      "  Attempting uninstall: protobuf\n",
      "    Found existing installation: protobuf 4.25.3\n",
      "    Uninstalling protobuf-4.25.3:\n",
      "      Successfully uninstalled protobuf-4.25.3\n",
      "  Attempting uninstall: google-auth-oauthlib\n",
      "    Found existing installation: google-auth-oauthlib 1.0.0\n",
      "    Uninstalling google-auth-oauthlib-1.0.0:\n",
      "      Successfully uninstalled google-auth-oauthlib-1.0.0\n",
      "  Attempting uninstall: tensorboard\n",
      "    Found existing installation: tensorboard 2.13.0\n",
      "    Uninstalling tensorboard-2.13.0:\n",
      "      Successfully uninstalled tensorboard-2.13.0\n",
      "  Attempting uninstall: tensorflow-macos\n",
      "    Found existing installation: tensorflow-macos 2.13.0\n",
      "    Uninstalling tensorflow-macos-2.13.0:\n",
      "      Successfully uninstalled tensorflow-macos-2.13.0\n",
      "\u001b[31mERROR: pip's dependency resolver does not currently take into account all the packages that are installed. This behaviour is the source of the following dependency conflicts.\n",
      "tensorflow 2.13.0 requires tensorflow-macos==2.13.0; platform_system == \"Darwin\" and platform_machine == \"arm64\", but you have tensorflow-macos 2.9.0 which is incompatible.\u001b[0m\u001b[31m\n",
      "\u001b[0mSuccessfully installed flatbuffers-1.12 google-auth-oauthlib-0.4.6 keras-2.9.0 protobuf-3.19.6 tensorboard-2.9.1 tensorboard-data-server-0.6.1 tensorflow-estimator-2.9.0 tensorflow-macos-2.9.0\n",
      "Collecting tensorflow-metal==0.5.0\n",
      "  Downloading tensorflow_metal-0.5.0-cp38-cp38-macosx_11_0_arm64.whl (1.4 MB)\n",
      "\u001b[2K     \u001b[90m━━━━━━━━━━━━━━━━━━━━━━━━━━━━━━━━━━━━━━━━\u001b[0m \u001b[32m1.4/1.4 MB\u001b[0m \u001b[31m3.9 MB/s\u001b[0m eta \u001b[36m0:00:00\u001b[0ma \u001b[36m0:00:01\u001b[0m0m\n",
      "\u001b[?25hRequirement already satisfied: wheel~=0.35 in /Users/alex/miniforge3/envs/mac-ml/lib/python3.8/site-packages (from tensorflow-metal==0.5.0) (0.40.0)\n",
      "Collecting six~=1.15.0\n",
      "  Using cached six-1.15.0-py2.py3-none-any.whl (10 kB)\n",
      "\u001b[33mWARNING: Error parsing requirements for jupyter: [Errno 2] No such file or directory: '/Users/alex/miniforge3/envs/mac-ml/lib/python3.8/site-packages/jupyter-1.0.0.dist-info/METADATA'\u001b[0m\u001b[33m\n",
      "\u001b[0mInstalling collected packages: six, tensorflow-metal\n",
      "  Attempting uninstall: six\n",
      "    Found existing installation: six 1.16.0\n",
      "    Uninstalling six-1.16.0:\n",
      "      Successfully uninstalled six-1.16.0\n",
      "  Attempting uninstall: tensorflow-metal\n",
      "    Found existing installation: tensorflow-metal 0.6.0\n",
      "    Uninstalling tensorflow-metal-0.6.0:\n",
      "      Successfully uninstalled tensorflow-metal-0.6.0\n",
      "\u001b[31mERROR: pip's dependency resolver does not currently take into account all the packages that are installed. This behaviour is the source of the following dependency conflicts.\n",
      "azureml-core 1.47.0 requires packaging<22.0,>=20.0, but you have packaging 23.0 which is incompatible.\n",
      "azureml-core 1.47.0 requires pyopenssl<23.0.0, but you have pyopenssl 23.1.1 which is incompatible.\u001b[0m\u001b[31m\n",
      "\u001b[0mSuccessfully installed six-1.15.0 tensorflow-metal-0.5.0\n"
     ]
    }
   ],
   "source": [
    "!python -m pip install  tensorflow-macos==2.9 \n",
    "!python -m pip install tensorflow-metal==0.5.0"
   ]
  },
  {
   "cell_type": "markdown",
   "metadata": {
    "id": "f47LmxF5X_pu"
   },
   "source": [
    "Run the following code cell to invoke the functions defined in the preceding two code cells. (Ignore the warning messages.)\n",
    "\n",
    "**Note:** Because we've scaled all the input data, **including the label**, the resulting loss values will be *much less* than previous models. \n",
    "\n",
    "**Note:** Depending on the version of TensorFlow, running this cell might generate WARNING messages. Please ignore these warnings. "
   ]
  },
  {
   "cell_type": "code",
   "execution_count": 30,
   "metadata": {
    "id": "tsfE4ujDL4ju"
   },
   "outputs": [
    {
     "name": "stdout",
     "output_type": "stream",
     "text": [
      "Epoch 1/15\n",
      "WARNING:tensorflow:Layers in a Sequential model should only have a single input tensor. Received: inputs={'longitude': <tf.Tensor 'IteratorGetNext:3' shape=(1000,) dtype=float32>, 'latitude': <tf.Tensor 'IteratorGetNext:2' shape=(1000,) dtype=float32>, 'housing_median_age': <tf.Tensor 'IteratorGetNext:1' shape=(1000,) dtype=float32>, 'total_rooms': <tf.Tensor 'IteratorGetNext:7' shape=(1000,) dtype=float32>, 'total_bedrooms': <tf.Tensor 'IteratorGetNext:6' shape=(1000,) dtype=float32>, 'population': <tf.Tensor 'IteratorGetNext:5' shape=(1000,) dtype=float32>, 'households': <tf.Tensor 'IteratorGetNext:0' shape=(1000,) dtype=float32>, 'median_income': <tf.Tensor 'IteratorGetNext:4' shape=(1000,) dtype=float32>}. Consider rewriting this model with the Functional API.\n",
      "WARNING:tensorflow:Layers in a Sequential model should only have a single input tensor. Received: inputs={'longitude': <tf.Tensor 'IteratorGetNext:3' shape=(1000,) dtype=float32>, 'latitude': <tf.Tensor 'IteratorGetNext:2' shape=(1000,) dtype=float32>, 'housing_median_age': <tf.Tensor 'IteratorGetNext:1' shape=(1000,) dtype=float32>, 'total_rooms': <tf.Tensor 'IteratorGetNext:7' shape=(1000,) dtype=float32>, 'total_bedrooms': <tf.Tensor 'IteratorGetNext:6' shape=(1000,) dtype=float32>, 'population': <tf.Tensor 'IteratorGetNext:5' shape=(1000,) dtype=float32>, 'households': <tf.Tensor 'IteratorGetNext:0' shape=(1000,) dtype=float32>, 'median_income': <tf.Tensor 'IteratorGetNext:4' shape=(1000,) dtype=float32>}. Consider rewriting this model with the Functional API.\n"
     ]
    },
    {
     "name": "stderr",
     "output_type": "stream",
     "text": [
      "2024-02-18 15:40:35.559848: I tensorflow/core/grappler/optimizers/custom_graph_optimizer_registry.cc:114] Plugin optimizer for device_type GPU is enabled.\n",
      "2024-02-18 15:40:35.636035: W tensorflow/core/framework/op_kernel.cc:1780] OP_REQUIRES failed at xla_ops.cc:296 : UNIMPLEMENTED: Could not find compiler for platform METAL: NOT_FOUND: could not find registered compiler for platform METAL -- was support for that platform linked in?\n",
      "2024-02-18 15:40:35.636063: W tensorflow/core/framework/op_kernel.cc:1780] OP_REQUIRES failed at xla_ops.cc:296 : UNIMPLEMENTED: Could not find compiler for platform METAL: NOT_FOUND: could not find registered compiler for platform METAL -- was support for that platform linked in?\n"
     ]
    },
    {
     "ename": "UnimplementedError",
     "evalue": "Graph execution error:\n\nDetected at node 'StatefulPartitionedCall' defined at (most recent call last):\n    File \"/Users/alex/miniforge3/envs/mac-ml/lib/python3.8/runpy.py\", line 194, in _run_module_as_main\n      return _run_code(code, main_globals, None,\n    File \"/Users/alex/miniforge3/envs/mac-ml/lib/python3.8/runpy.py\", line 87, in _run_code\n      exec(code, run_globals)\n    File \"/Users/alex/miniforge3/envs/mac-ml/lib/python3.8/site-packages/ipykernel_launcher.py\", line 17, in <module>\n      app.launch_new_instance()\n    File \"/Users/alex/miniforge3/envs/mac-ml/lib/python3.8/site-packages/traitlets/config/application.py\", line 1043, in launch_instance\n      app.start()\n    File \"/Users/alex/miniforge3/envs/mac-ml/lib/python3.8/site-packages/ipykernel/kernelapp.py\", line 725, in start\n      self.io_loop.start()\n    File \"/Users/alex/miniforge3/envs/mac-ml/lib/python3.8/site-packages/tornado/platform/asyncio.py\", line 215, in start\n      self.asyncio_loop.run_forever()\n    File \"/Users/alex/miniforge3/envs/mac-ml/lib/python3.8/asyncio/base_events.py\", line 570, in run_forever\n      self._run_once()\n    File \"/Users/alex/miniforge3/envs/mac-ml/lib/python3.8/asyncio/base_events.py\", line 1859, in _run_once\n      handle._run()\n    File \"/Users/alex/miniforge3/envs/mac-ml/lib/python3.8/asyncio/events.py\", line 81, in _run\n      self._context.run(self._callback, *self._args)\n    File \"/Users/alex/miniforge3/envs/mac-ml/lib/python3.8/site-packages/ipykernel/kernelbase.py\", line 513, in dispatch_queue\n      await self.process_one()\n    File \"/Users/alex/miniforge3/envs/mac-ml/lib/python3.8/site-packages/ipykernel/kernelbase.py\", line 502, in process_one\n      await dispatch(*args)\n    File \"/Users/alex/miniforge3/envs/mac-ml/lib/python3.8/site-packages/ipykernel/kernelbase.py\", line 409, in dispatch_shell\n      await result\n    File \"/Users/alex/miniforge3/envs/mac-ml/lib/python3.8/site-packages/ipykernel/kernelbase.py\", line 729, in execute_request\n      reply_content = await reply_content\n    File \"/Users/alex/miniforge3/envs/mac-ml/lib/python3.8/site-packages/ipykernel/ipkernel.py\", line 422, in do_execute\n      res = shell.run_cell(\n    File \"/Users/alex/miniforge3/envs/mac-ml/lib/python3.8/site-packages/ipykernel/zmqshell.py\", line 540, in run_cell\n      return super().run_cell(*args, **kwargs)\n    File \"/Users/alex/miniforge3/envs/mac-ml/lib/python3.8/site-packages/IPython/core/interactiveshell.py\", line 2961, in run_cell\n      result = self._run_cell(\n    File \"/Users/alex/miniforge3/envs/mac-ml/lib/python3.8/site-packages/IPython/core/interactiveshell.py\", line 3016, in _run_cell\n      result = runner(coro)\n    File \"/Users/alex/miniforge3/envs/mac-ml/lib/python3.8/site-packages/IPython/core/async_helpers.py\", line 129, in _pseudo_sync_runner\n      coro.send(None)\n    File \"/Users/alex/miniforge3/envs/mac-ml/lib/python3.8/site-packages/IPython/core/interactiveshell.py\", line 3221, in run_cell_async\n      has_raised = await self.run_ast_nodes(code_ast.body, cell_name,\n    File \"/Users/alex/miniforge3/envs/mac-ml/lib/python3.8/site-packages/IPython/core/interactiveshell.py\", line 3400, in run_ast_nodes\n      if await self.run_code(code, result, async_=asy):\n    File \"/Users/alex/miniforge3/envs/mac-ml/lib/python3.8/site-packages/IPython/core/interactiveshell.py\", line 3460, in run_code\n      exec(code_obj, self.user_global_ns, self.user_ns)\n    File \"/var/folders/49/7n60k7011n11zcdptxxpmvvh0000gn/T/ipykernel_75986/676360657.py\", line 11, in <module>\n      epochs, mse = train_model(my_model, train_df_norm, epochs, batch_size, label_name)\n    File \"/var/folders/49/7n60k7011n11zcdptxxpmvvh0000gn/T/ipykernel_75986/3390290805.py\", line 27, in train_model\n      history = model.fit(x=features, y=label, batch_size=batch_size,\n    File \"/Users/alex/miniforge3/envs/mac-ml/lib/python3.8/site-packages/keras/utils/traceback_utils.py\", line 65, in error_handler\n      except Exception as e:  # pylint: disable=broad-except\n    File \"/Users/alex/miniforge3/envs/mac-ml/lib/python3.8/site-packages/keras/engine/training.py\", line 1564, in fit\n      self.test_function = lambda it: self._cluster_coordinator.schedule(  # pylint: disable=g-long-lambda\n    File \"/Users/alex/miniforge3/envs/mac-ml/lib/python3.8/site-packages/keras/engine/training.py\", line 1160, in train_function\n      data provided\n    File \"/Users/alex/miniforge3/envs/mac-ml/lib/python3.8/site-packages/keras/engine/training.py\", line 1146, in step_function\n      y: Target data. Like the input data `x`,\n    File \"/Users/alex/miniforge3/envs/mac-ml/lib/python3.8/site-packages/keras/engine/training.py\", line 1135, in run_step\n      - A `tf.keras.utils.experimental.DatasetCreator`, which wraps a\n    File \"/Users/alex/miniforge3/envs/mac-ml/lib/python3.8/site-packages/keras/engine/training.py\", line 997, in train_step\n    File \"/Users/alex/miniforge3/envs/mac-ml/lib/python3.8/site-packages/keras/optimizers/optimizer_experimental/optimizer.py\", line 481, in minimize\n      self._overwrite_model_variables_with_average_value(var_list)\n    File \"/Users/alex/miniforge3/envs/mac-ml/lib/python3.8/site-packages/keras/optimizers/optimizer_experimental/optimizer.py\", line 940, in apply_gradients\n    File \"/Users/alex/miniforge3/envs/mac-ml/lib/python3.8/site-packages/keras/optimizers/optimizer_experimental/optimizer.py\", line 526, in apply_gradients\n      config: A Python dictionary, typically the output of get_config.\n    File \"/Users/alex/miniforge3/envs/mac-ml/lib/python3.8/site-packages/keras/optimizers/optimizer_experimental/optimizer.py\", line 943, in _internal_apply_gradients\n    File \"/Users/alex/miniforge3/envs/mac-ml/lib/python3.8/site-packages/keras/optimizers/optimizer_experimental/optimizer.py\", line 993, in _distributed_apply_gradients_fn\n    File \"/Users/alex/miniforge3/envs/mac-ml/lib/python3.8/site-packages/keras/optimizers/optimizer_experimental/optimizer.py\", line 988, in apply_grad_to_update_var\nNode: 'StatefulPartitionedCall'\nCould not find compiler for platform METAL: NOT_FOUND: could not find registered compiler for platform METAL -- was support for that platform linked in?\n\t [[{{node StatefulPartitionedCall}}]] [Op:__inference_train_function_61142]",
     "output_type": "error",
     "traceback": [
      "\u001b[0;31m---------------------------------------------------------------------------\u001b[0m",
      "\u001b[0;31mUnimplementedError\u001b[0m                        Traceback (most recent call last)",
      "Cell \u001b[0;32mIn[30], line 11\u001b[0m\n\u001b[1;32m      8\u001b[0m my_model \u001b[38;5;241m=\u001b[39m create_model(learning_rate, my_feature_layer)\n\u001b[1;32m     10\u001b[0m \u001b[38;5;66;03m# Train the model on the normalized training set.\u001b[39;00m\n\u001b[0;32m---> 11\u001b[0m epochs, mse \u001b[38;5;241m=\u001b[39m \u001b[43mtrain_model\u001b[49m\u001b[43m(\u001b[49m\u001b[43mmy_model\u001b[49m\u001b[43m,\u001b[49m\u001b[43m \u001b[49m\u001b[43mtrain_df_norm\u001b[49m\u001b[43m,\u001b[49m\u001b[43m \u001b[49m\u001b[43mepochs\u001b[49m\u001b[43m,\u001b[49m\u001b[43m \u001b[49m\u001b[43mbatch_size\u001b[49m\u001b[43m,\u001b[49m\u001b[43m \u001b[49m\u001b[43mlabel_name\u001b[49m\u001b[43m)\u001b[49m\n\u001b[1;32m     12\u001b[0m plot_the_loss_curve(epochs, mse)\n\u001b[1;32m     14\u001b[0m test_features \u001b[38;5;241m=\u001b[39m {name:np\u001b[38;5;241m.\u001b[39marray(value) \u001b[38;5;28;01mfor\u001b[39;00m name, value \u001b[38;5;129;01min\u001b[39;00m test_df_norm\u001b[38;5;241m.\u001b[39mitems()}\n",
      "Cell \u001b[0;32mIn[27], line 27\u001b[0m, in \u001b[0;36mtrain_model\u001b[0;34m(model, dataset, epochs, batch_size, label_name)\u001b[0m\n\u001b[1;32m     25\u001b[0m features \u001b[38;5;241m=\u001b[39m {name:np\u001b[38;5;241m.\u001b[39marray(value) \u001b[38;5;28;01mfor\u001b[39;00m name, value \u001b[38;5;129;01min\u001b[39;00m dataset\u001b[38;5;241m.\u001b[39mitems()}\n\u001b[1;32m     26\u001b[0m label \u001b[38;5;241m=\u001b[39m np\u001b[38;5;241m.\u001b[39marray(features\u001b[38;5;241m.\u001b[39mpop(label_name))\n\u001b[0;32m---> 27\u001b[0m history \u001b[38;5;241m=\u001b[39m \u001b[43mmodel\u001b[49m\u001b[38;5;241;43m.\u001b[39;49m\u001b[43mfit\u001b[49m\u001b[43m(\u001b[49m\u001b[43mx\u001b[49m\u001b[38;5;241;43m=\u001b[39;49m\u001b[43mfeatures\u001b[49m\u001b[43m,\u001b[49m\u001b[43m \u001b[49m\u001b[43my\u001b[49m\u001b[38;5;241;43m=\u001b[39;49m\u001b[43mlabel\u001b[49m\u001b[43m,\u001b[49m\u001b[43m \u001b[49m\u001b[43mbatch_size\u001b[49m\u001b[38;5;241;43m=\u001b[39;49m\u001b[43mbatch_size\u001b[49m\u001b[43m,\u001b[49m\n\u001b[1;32m     28\u001b[0m \u001b[43m                    \u001b[49m\u001b[43mepochs\u001b[49m\u001b[38;5;241;43m=\u001b[39;49m\u001b[43mepochs\u001b[49m\u001b[43m,\u001b[49m\u001b[43m \u001b[49m\u001b[43mshuffle\u001b[49m\u001b[38;5;241;43m=\u001b[39;49m\u001b[38;5;28;43;01mTrue\u001b[39;49;00m\u001b[43m)\u001b[49m\n\u001b[1;32m     30\u001b[0m \u001b[38;5;66;03m# Get details that will be useful for plotting the loss curve.\u001b[39;00m\n\u001b[1;32m     31\u001b[0m epochs \u001b[38;5;241m=\u001b[39m history\u001b[38;5;241m.\u001b[39mepoch\n",
      "File \u001b[0;32m~/miniforge3/envs/mac-ml/lib/python3.8/site-packages/keras/utils/traceback_utils.py:70\u001b[0m, in \u001b[0;36mfilter_traceback.<locals>.error_handler\u001b[0;34m(*args, **kwargs)\u001b[0m\n\u001b[1;32m     67\u001b[0m     filtered_tb \u001b[38;5;241m=\u001b[39m _process_traceback_frames(e\u001b[38;5;241m.\u001b[39m__traceback__)\n\u001b[1;32m     68\u001b[0m     \u001b[38;5;66;03m# To get the full stack trace, call:\u001b[39;00m\n\u001b[1;32m     69\u001b[0m     \u001b[38;5;66;03m# `tf.debugging.disable_traceback_filtering()`\u001b[39;00m\n\u001b[0;32m---> 70\u001b[0m     \u001b[38;5;28;01mraise\u001b[39;00m e\u001b[38;5;241m.\u001b[39mwith_traceback(filtered_tb) \u001b[38;5;28;01mfrom\u001b[39;00m \u001b[38;5;28mNone\u001b[39m\n\u001b[1;32m     71\u001b[0m \u001b[38;5;28;01mfinally\u001b[39;00m:\n\u001b[1;32m     72\u001b[0m     \u001b[38;5;28;01mdel\u001b[39;00m filtered_tb\n",
      "File \u001b[0;32m~/miniforge3/envs/mac-ml/lib/python3.8/site-packages/tensorflow/python/eager/execute.py:54\u001b[0m, in \u001b[0;36mquick_execute\u001b[0;34m(op_name, num_outputs, inputs, attrs, ctx, name)\u001b[0m\n\u001b[1;32m     52\u001b[0m \u001b[38;5;28;01mtry\u001b[39;00m:\n\u001b[1;32m     53\u001b[0m   ctx\u001b[38;5;241m.\u001b[39mensure_initialized()\n\u001b[0;32m---> 54\u001b[0m   tensors \u001b[38;5;241m=\u001b[39m pywrap_tfe\u001b[38;5;241m.\u001b[39mTFE_Py_Execute(ctx\u001b[38;5;241m.\u001b[39m_handle, device_name, op_name,\n\u001b[1;32m     55\u001b[0m                                       inputs, attrs, num_outputs)\n\u001b[1;32m     56\u001b[0m \u001b[38;5;28;01mexcept\u001b[39;00m core\u001b[38;5;241m.\u001b[39m_NotOkStatusException \u001b[38;5;28;01mas\u001b[39;00m e:\n\u001b[1;32m     57\u001b[0m   \u001b[38;5;28;01mif\u001b[39;00m name \u001b[38;5;129;01mis\u001b[39;00m \u001b[38;5;129;01mnot\u001b[39;00m \u001b[38;5;28;01mNone\u001b[39;00m:\n",
      "\u001b[0;31mUnimplementedError\u001b[0m: Graph execution error:\n\nDetected at node 'StatefulPartitionedCall' defined at (most recent call last):\n    File \"/Users/alex/miniforge3/envs/mac-ml/lib/python3.8/runpy.py\", line 194, in _run_module_as_main\n      return _run_code(code, main_globals, None,\n    File \"/Users/alex/miniforge3/envs/mac-ml/lib/python3.8/runpy.py\", line 87, in _run_code\n      exec(code, run_globals)\n    File \"/Users/alex/miniforge3/envs/mac-ml/lib/python3.8/site-packages/ipykernel_launcher.py\", line 17, in <module>\n      app.launch_new_instance()\n    File \"/Users/alex/miniforge3/envs/mac-ml/lib/python3.8/site-packages/traitlets/config/application.py\", line 1043, in launch_instance\n      app.start()\n    File \"/Users/alex/miniforge3/envs/mac-ml/lib/python3.8/site-packages/ipykernel/kernelapp.py\", line 725, in start\n      self.io_loop.start()\n    File \"/Users/alex/miniforge3/envs/mac-ml/lib/python3.8/site-packages/tornado/platform/asyncio.py\", line 215, in start\n      self.asyncio_loop.run_forever()\n    File \"/Users/alex/miniforge3/envs/mac-ml/lib/python3.8/asyncio/base_events.py\", line 570, in run_forever\n      self._run_once()\n    File \"/Users/alex/miniforge3/envs/mac-ml/lib/python3.8/asyncio/base_events.py\", line 1859, in _run_once\n      handle._run()\n    File \"/Users/alex/miniforge3/envs/mac-ml/lib/python3.8/asyncio/events.py\", line 81, in _run\n      self._context.run(self._callback, *self._args)\n    File \"/Users/alex/miniforge3/envs/mac-ml/lib/python3.8/site-packages/ipykernel/kernelbase.py\", line 513, in dispatch_queue\n      await self.process_one()\n    File \"/Users/alex/miniforge3/envs/mac-ml/lib/python3.8/site-packages/ipykernel/kernelbase.py\", line 502, in process_one\n      await dispatch(*args)\n    File \"/Users/alex/miniforge3/envs/mac-ml/lib/python3.8/site-packages/ipykernel/kernelbase.py\", line 409, in dispatch_shell\n      await result\n    File \"/Users/alex/miniforge3/envs/mac-ml/lib/python3.8/site-packages/ipykernel/kernelbase.py\", line 729, in execute_request\n      reply_content = await reply_content\n    File \"/Users/alex/miniforge3/envs/mac-ml/lib/python3.8/site-packages/ipykernel/ipkernel.py\", line 422, in do_execute\n      res = shell.run_cell(\n    File \"/Users/alex/miniforge3/envs/mac-ml/lib/python3.8/site-packages/ipykernel/zmqshell.py\", line 540, in run_cell\n      return super().run_cell(*args, **kwargs)\n    File \"/Users/alex/miniforge3/envs/mac-ml/lib/python3.8/site-packages/IPython/core/interactiveshell.py\", line 2961, in run_cell\n      result = self._run_cell(\n    File \"/Users/alex/miniforge3/envs/mac-ml/lib/python3.8/site-packages/IPython/core/interactiveshell.py\", line 3016, in _run_cell\n      result = runner(coro)\n    File \"/Users/alex/miniforge3/envs/mac-ml/lib/python3.8/site-packages/IPython/core/async_helpers.py\", line 129, in _pseudo_sync_runner\n      coro.send(None)\n    File \"/Users/alex/miniforge3/envs/mac-ml/lib/python3.8/site-packages/IPython/core/interactiveshell.py\", line 3221, in run_cell_async\n      has_raised = await self.run_ast_nodes(code_ast.body, cell_name,\n    File \"/Users/alex/miniforge3/envs/mac-ml/lib/python3.8/site-packages/IPython/core/interactiveshell.py\", line 3400, in run_ast_nodes\n      if await self.run_code(code, result, async_=asy):\n    File \"/Users/alex/miniforge3/envs/mac-ml/lib/python3.8/site-packages/IPython/core/interactiveshell.py\", line 3460, in run_code\n      exec(code_obj, self.user_global_ns, self.user_ns)\n    File \"/var/folders/49/7n60k7011n11zcdptxxpmvvh0000gn/T/ipykernel_75986/676360657.py\", line 11, in <module>\n      epochs, mse = train_model(my_model, train_df_norm, epochs, batch_size, label_name)\n    File \"/var/folders/49/7n60k7011n11zcdptxxpmvvh0000gn/T/ipykernel_75986/3390290805.py\", line 27, in train_model\n      history = model.fit(x=features, y=label, batch_size=batch_size,\n    File \"/Users/alex/miniforge3/envs/mac-ml/lib/python3.8/site-packages/keras/utils/traceback_utils.py\", line 65, in error_handler\n      except Exception as e:  # pylint: disable=broad-except\n    File \"/Users/alex/miniforge3/envs/mac-ml/lib/python3.8/site-packages/keras/engine/training.py\", line 1564, in fit\n      self.test_function = lambda it: self._cluster_coordinator.schedule(  # pylint: disable=g-long-lambda\n    File \"/Users/alex/miniforge3/envs/mac-ml/lib/python3.8/site-packages/keras/engine/training.py\", line 1160, in train_function\n      data provided\n    File \"/Users/alex/miniforge3/envs/mac-ml/lib/python3.8/site-packages/keras/engine/training.py\", line 1146, in step_function\n      y: Target data. Like the input data `x`,\n    File \"/Users/alex/miniforge3/envs/mac-ml/lib/python3.8/site-packages/keras/engine/training.py\", line 1135, in run_step\n      - A `tf.keras.utils.experimental.DatasetCreator`, which wraps a\n    File \"/Users/alex/miniforge3/envs/mac-ml/lib/python3.8/site-packages/keras/engine/training.py\", line 997, in train_step\n    File \"/Users/alex/miniforge3/envs/mac-ml/lib/python3.8/site-packages/keras/optimizers/optimizer_experimental/optimizer.py\", line 481, in minimize\n      self._overwrite_model_variables_with_average_value(var_list)\n    File \"/Users/alex/miniforge3/envs/mac-ml/lib/python3.8/site-packages/keras/optimizers/optimizer_experimental/optimizer.py\", line 940, in apply_gradients\n    File \"/Users/alex/miniforge3/envs/mac-ml/lib/python3.8/site-packages/keras/optimizers/optimizer_experimental/optimizer.py\", line 526, in apply_gradients\n      config: A Python dictionary, typically the output of get_config.\n    File \"/Users/alex/miniforge3/envs/mac-ml/lib/python3.8/site-packages/keras/optimizers/optimizer_experimental/optimizer.py\", line 943, in _internal_apply_gradients\n    File \"/Users/alex/miniforge3/envs/mac-ml/lib/python3.8/site-packages/keras/optimizers/optimizer_experimental/optimizer.py\", line 993, in _distributed_apply_gradients_fn\n    File \"/Users/alex/miniforge3/envs/mac-ml/lib/python3.8/site-packages/keras/optimizers/optimizer_experimental/optimizer.py\", line 988, in apply_grad_to_update_var\nNode: 'StatefulPartitionedCall'\nCould not find compiler for platform METAL: NOT_FOUND: could not find registered compiler for platform METAL -- was support for that platform linked in?\n\t [[{{node StatefulPartitionedCall}}]] [Op:__inference_train_function_61142]"
     ]
    }
   ],
   "source": [
    "# The following variables are the hyperparameters.\n",
    "learning_rate = 0.01\n",
    "epochs = 15\n",
    "batch_size = 1000\n",
    "label_name = \"median_house_value\"\n",
    "\n",
    "# Establish the model's topography.\n",
    "my_model = create_model(learning_rate, my_feature_layer)\n",
    "\n",
    "# Train the model on the normalized training set.\n",
    "epochs, mse = train_model(my_model, train_df_norm, epochs, batch_size, label_name)\n",
    "plot_the_loss_curve(epochs, mse)\n",
    "\n",
    "test_features = {name:np.array(value) for name, value in test_df_norm.items()}\n",
    "test_label = np.array(test_features.pop(label_name)) # isolate the label\n",
    "print(\"\\n Evaluate the linear regression model against the test set:\")\n",
    "my_model.evaluate(x = test_features, y = test_label, batch_size=batch_size)"
   ]
  },
  {
   "cell_type": "markdown",
   "metadata": {
    "id": "3014ezH3C7jT"
   },
   "source": [
    "## Define a deep neural net model\n",
    "\n",
    "The `create_model` function defines the topography of the deep neural net, specifying the following:\n",
    "\n",
    "* The number of [layers](https://developers.google.com/machine-learning/glossary/#layer) in the deep neural net.\n",
    "* The number of [nodes](https://developers.google.com/machine-learning/glossary/#node) in each layer.\n",
    "\n",
    "The `create_model` function also defines the [activation function](https://developers.google.com/machine-learning/glossary/#activation_function) of each layer."
   ]
  },
  {
   "cell_type": "code",
   "execution_count": 31,
   "metadata": {
    "cellView": "both",
    "id": "pedD5GhlDC-y"
   },
   "outputs": [],
   "source": [
    "def create_model(my_learning_rate, my_feature_layer):\n",
    "  \"\"\"Create and compile a simple linear regression model.\"\"\"\n",
    "  # Most simple tf.keras models are sequential.\n",
    "  model = tf.keras.models.Sequential()\n",
    "\n",
    "  # Add the layer containing the feature columns to the model.\n",
    "  model.add(my_feature_layer)\n",
    "\n",
    "  # Describe the topography of the model by calling the tf.keras.layers.Dense\n",
    "  # method once for each layer. We've specified the following arguments:\n",
    "  #   * units specifies the number of nodes in this layer.\n",
    "  #   * activation specifies the activation function (Rectified Linear Unit).\n",
    "  #   * name is just a string that can be useful when debugging.\n",
    "\n",
    "  # Define the first hidden layer with 20 nodes.   \n",
    "  model.add(tf.keras.layers.Dense(units=20, \n",
    "                                  activation='relu', \n",
    "                                  name='Hidden1'))\n",
    "  \n",
    "  # Define the second hidden layer with 12 nodes. \n",
    "  model.add(tf.keras.layers.Dense(units=12, \n",
    "                                  activation='relu', \n",
    "                                  name='Hidden2'))\n",
    "  \n",
    "  # Define the output layer.\n",
    "  model.add(tf.keras.layers.Dense(units=1,  \n",
    "                                  name='Output'))                              \n",
    "  \n",
    "  model.compile(optimizer=tf.keras.optimizers.Adam(learning_rate=my_learning_rate),\n",
    "                loss=\"mean_squared_error\",\n",
    "                metrics=[tf.keras.metrics.MeanSquaredError()])\n",
    "\n",
    "  return model"
   ]
  },
  {
   "cell_type": "markdown",
   "metadata": {
    "id": "anH4A_yCcZx2"
   },
   "source": [
    "## Define a training function\n",
    "\n",
    "The `train_model` function trains the model from the input features and labels. The [tf.keras.Model.fit](https://www.tensorflow.org/api_docs/python/tf/keras/Sequential#fit) method performs the actual training. The `x` parameter of the `fit` method is very flexible, enabling you to pass feature data in a variety of ways. The following implementation passes a Python dictionary in which:\n",
    "\n",
    "* The *keys* are the names of each feature (for example, `longitude`, `latitude`, and so on).\n",
    "* The *value* of each key is a NumPy array containing the values of that feature. \n",
    "\n",
    "**Note:** Although you are passing *every* feature to `model.fit`, most of those values will be ignored. Only the features accessed by `my_feature_layer` will actually be used to train the model."
   ]
  },
  {
   "cell_type": "code",
   "execution_count": 32,
   "metadata": {
    "id": "4jv_lJYTcrEF"
   },
   "outputs": [],
   "source": [
    "def train_model(model, dataset, epochs, label_name,\n",
    "                batch_size=None):\n",
    "  \"\"\"Train the model by feeding it data.\"\"\"\n",
    "\n",
    "  # Split the dataset into features and label.\n",
    "  features = {name:np.array(value) for name, value in dataset.items()}\n",
    "  label = np.array(features.pop(label_name))\n",
    "  history = model.fit(x=features, y=label, batch_size=batch_size,\n",
    "                      epochs=epochs, shuffle=True) \n",
    "\n",
    "  # The list of epochs is stored separately from the rest of history.\n",
    "  epochs = history.epoch\n",
    "  \n",
    "  # To track the progression of training, gather a snapshot\n",
    "  # of the model's mean squared error at each epoch. \n",
    "  hist = pd.DataFrame(history.history)\n",
    "  mse = hist[\"mean_squared_error\"]\n",
    "\n",
    "  return epochs, mse"
   ]
  },
  {
   "cell_type": "markdown",
   "metadata": {
    "id": "D-IXYVfvM4gD"
   },
   "source": [
    "## Call the functions to build and train a deep neural net\n",
    "\n",
    "Okay, it is time to actually train the deep neural net.  If time permits, experiment with the three hyperparameters to see if you can reduce the loss\n",
    "against the test set.\n"
   ]
  },
  {
   "cell_type": "code",
   "execution_count": 33,
   "metadata": {
    "cellView": "both",
    "id": "nj3v5EKQFY8s"
   },
   "outputs": [
    {
     "name": "stdout",
     "output_type": "stream",
     "text": [
      "Epoch 1/20\n",
      "WARNING:tensorflow:Layers in a Sequential model should only have a single input tensor. Received: inputs={'longitude': <tf.Tensor 'IteratorGetNext:3' shape=(1000,) dtype=float32>, 'latitude': <tf.Tensor 'IteratorGetNext:2' shape=(1000,) dtype=float32>, 'housing_median_age': <tf.Tensor 'IteratorGetNext:1' shape=(1000,) dtype=float32>, 'total_rooms': <tf.Tensor 'IteratorGetNext:7' shape=(1000,) dtype=float32>, 'total_bedrooms': <tf.Tensor 'IteratorGetNext:6' shape=(1000,) dtype=float32>, 'population': <tf.Tensor 'IteratorGetNext:5' shape=(1000,) dtype=float32>, 'households': <tf.Tensor 'IteratorGetNext:0' shape=(1000,) dtype=float32>, 'median_income': <tf.Tensor 'IteratorGetNext:4' shape=(1000,) dtype=float32>}. Consider rewriting this model with the Functional API.\n",
      "WARNING:tensorflow:Layers in a Sequential model should only have a single input tensor. Received: inputs={'longitude': <tf.Tensor 'IteratorGetNext:3' shape=(1000,) dtype=float32>, 'latitude': <tf.Tensor 'IteratorGetNext:2' shape=(1000,) dtype=float32>, 'housing_median_age': <tf.Tensor 'IteratorGetNext:1' shape=(1000,) dtype=float32>, 'total_rooms': <tf.Tensor 'IteratorGetNext:7' shape=(1000,) dtype=float32>, 'total_bedrooms': <tf.Tensor 'IteratorGetNext:6' shape=(1000,) dtype=float32>, 'population': <tf.Tensor 'IteratorGetNext:5' shape=(1000,) dtype=float32>, 'households': <tf.Tensor 'IteratorGetNext:0' shape=(1000,) dtype=float32>, 'median_income': <tf.Tensor 'IteratorGetNext:4' shape=(1000,) dtype=float32>}. Consider rewriting this model with the Functional API.\n"
     ]
    },
    {
     "name": "stderr",
     "output_type": "stream",
     "text": [
      "2024-02-18 16:03:45.974996: I tensorflow/core/grappler/optimizers/custom_graph_optimizer_registry.cc:114] Plugin optimizer for device_type GPU is enabled.\n"
     ]
    },
    {
     "name": "stdout",
     "output_type": "stream",
     "text": [
      "17/17 [==============================] - 2s 19ms/step - loss: 0.7653 - mean_squared_error: 0.7653\n",
      "Epoch 2/20\n",
      "17/17 [==============================] - 0s 19ms/step - loss: 0.3946 - mean_squared_error: 0.3946\n",
      "Epoch 3/20\n",
      "17/17 [==============================] - 0s 16ms/step - loss: 0.3488 - mean_squared_error: 0.3488\n",
      "Epoch 4/20\n",
      "17/17 [==============================] - 0s 17ms/step - loss: 0.3391 - mean_squared_error: 0.3391\n",
      "Epoch 5/20\n",
      "17/17 [==============================] - 0s 17ms/step - loss: 0.3364 - mean_squared_error: 0.3364\n",
      "Epoch 6/20\n",
      "17/17 [==============================] - 0s 17ms/step - loss: 0.3354 - mean_squared_error: 0.3354\n",
      "Epoch 7/20\n",
      "17/17 [==============================] - 0s 18ms/step - loss: 0.3332 - mean_squared_error: 0.3332\n",
      "Epoch 8/20\n",
      "17/17 [==============================] - 0s 19ms/step - loss: 0.3315 - mean_squared_error: 0.3315\n",
      "Epoch 9/20\n",
      "17/17 [==============================] - 0s 19ms/step - loss: 0.3304 - mean_squared_error: 0.3304\n",
      "Epoch 10/20\n",
      "17/17 [==============================] - 0s 17ms/step - loss: 0.3310 - mean_squared_error: 0.3310\n",
      "Epoch 11/20\n",
      "17/17 [==============================] - 0s 17ms/step - loss: 0.3320 - mean_squared_error: 0.3320\n",
      "Epoch 12/20\n",
      "17/17 [==============================] - 0s 17ms/step - loss: 0.3291 - mean_squared_error: 0.3291\n",
      "Epoch 13/20\n",
      "17/17 [==============================] - 0s 18ms/step - loss: 0.3277 - mean_squared_error: 0.3277\n",
      "Epoch 14/20\n",
      "17/17 [==============================] - 0s 18ms/step - loss: 0.3280 - mean_squared_error: 0.3280\n",
      "Epoch 15/20\n",
      "17/17 [==============================] - 0s 17ms/step - loss: 0.3270 - mean_squared_error: 0.3270\n",
      "Epoch 16/20\n",
      "17/17 [==============================] - 0s 18ms/step - loss: 0.3273 - mean_squared_error: 0.3273\n",
      "Epoch 17/20\n",
      "17/17 [==============================] - 0s 17ms/step - loss: 0.3265 - mean_squared_error: 0.3265\n",
      "Epoch 18/20\n",
      "17/17 [==============================] - 0s 19ms/step - loss: 0.3271 - mean_squared_error: 0.3271\n",
      "Epoch 19/20\n",
      "17/17 [==============================] - 0s 18ms/step - loss: 0.3255 - mean_squared_error: 0.3255\n",
      "Epoch 20/20\n",
      "17/17 [==============================] - 0s 14ms/step - loss: 0.3263 - mean_squared_error: 0.3263\n"
     ]
    },
    {
     "data": {
      "image/png": "[encoded data removed]",
      "text/plain": [
       "<Figure size 640x480 with 1 Axes>"
      ]
     },
     "metadata": {},
     "output_type": "display_data"
    },
    {
     "name": "stdout",
     "output_type": "stream",
     "text": [
      "\n",
      " Evaluate the new model against the test set:\n",
      "WARNING:tensorflow:AutoGraph could not transform <function Model.make_test_function.<locals>.test_function at 0x2d9cf23a0> and will run it as-is.\n",
      "Please report this to the TensorFlow team. When filing the bug, set the verbosity to 10 (on Linux, `export AUTOGRAPH_VERBOSITY=10`) and attach the full output.\n",
      "Cause: closure mismatch, requested ('self', 'step_function'), but source function had ()\n",
      "To silence this warning, decorate the function with @tf.autograph.experimental.do_not_convert\n",
      "WARNING: AutoGraph could not transform <function Model.make_test_function.<locals>.test_function at 0x2d9cf23a0> and will run it as-is.\n",
      "Please report this to the TensorFlow team. When filing the bug, set the verbosity to 10 (on Linux, `export AUTOGRAPH_VERBOSITY=10`) and attach the full output.\n",
      "Cause: closure mismatch, requested ('self', 'step_function'), but source function had ()\n",
      "To silence this warning, decorate the function with @tf.autograph.experimental.do_not_convert\n",
      "WARNING:tensorflow:Layers in a Sequential model should only have a single input tensor. Received: inputs={'longitude': <tf.Tensor 'IteratorGetNext:3' shape=(1000,) dtype=float32>, 'latitude': <tf.Tensor 'IteratorGetNext:2' shape=(1000,) dtype=float32>, 'housing_median_age': <tf.Tensor 'IteratorGetNext:1' shape=(1000,) dtype=float32>, 'total_rooms': <tf.Tensor 'IteratorGetNext:7' shape=(1000,) dtype=float32>, 'total_bedrooms': <tf.Tensor 'IteratorGetNext:6' shape=(1000,) dtype=float32>, 'population': <tf.Tensor 'IteratorGetNext:5' shape=(1000,) dtype=float32>, 'households': <tf.Tensor 'IteratorGetNext:0' shape=(1000,) dtype=float32>, 'median_income': <tf.Tensor 'IteratorGetNext:4' shape=(1000,) dtype=float32>}. Consider rewriting this model with the Functional API.\n",
      "3/3 [==============================] - 0s 17ms/step - loss: 0.3764 - mean_squared_error: 0.3764\n"
     ]
    },
    {
     "name": "stderr",
     "output_type": "stream",
     "text": [
      "2024-02-18 16:03:53.808870: I tensorflow/core/grappler/optimizers/custom_graph_optimizer_registry.cc:114] Plugin optimizer for device_type GPU is enabled.\n"
     ]
    },
    {
     "data": {
      "text/plain": [
       "[0.37637796998023987, 0.37637796998023987]"
      ]
     },
     "execution_count": 33,
     "metadata": {},
     "output_type": "execute_result"
    }
   ],
   "source": [
    "# The following variables are the hyperparameters.\n",
    "learning_rate = 0.01\n",
    "epochs = 20\n",
    "batch_size = 1000\n",
    "\n",
    "# Specify the label\n",
    "label_name = \"median_house_value\"\n",
    "\n",
    "# Establish the model's topography.\n",
    "my_model = create_model(learning_rate, my_feature_layer)\n",
    "\n",
    "# Train the model on the normalized training set. We're passing the entire\n",
    "# normalized training set, but the model will only use the features\n",
    "# defined by the feature_layer.\n",
    "epochs, mse = train_model(my_model, train_df_norm, epochs, \n",
    "                          label_name, batch_size)\n",
    "plot_the_loss_curve(epochs, mse)\n",
    "\n",
    "# After building a model against the training set, test that model\n",
    "# against the test set.\n",
    "test_features = {name:np.array(value) for name, value in test_df_norm.items()}\n",
    "test_label = np.array(test_features.pop(label_name)) # isolate the label\n",
    "print(\"\\n Evaluate the new model against the test set:\")\n",
    "my_model.evaluate(x = test_features, y = test_label, batch_size=batch_size)"
   ]
  },
  {
   "cell_type": "markdown",
   "metadata": {
    "id": "wlPXK-SmmjQ2"
   },
   "source": [
    "## Task 1: Compare the two models\n",
    "\n",
    "How did the deep neural net perform against the baseline linear regression model?"
   ]
  },
  {
   "cell_type": "code",
   "execution_count": null,
   "metadata": {
    "cellView": "form",
    "id": "hI7ojsL7nnBE"
   },
   "outputs": [],
   "source": [
    "#@title Double-click to view a possible answer\n",
    "\n",
    "# Assuming that the linear model converged and\n",
    "# the deep neural net model also converged, please \n",
    "# compare the test set loss for each.\n",
    "# In our experiments, the loss of the deep neural \n",
    "# network model was consistently lower than \n",
    "# that of the linear regression model, which \n",
    "# suggests that the deep neural network model \n",
    "# will make better predictions than the \n",
    "# linear regression model."
   ]
  },
  {
   "cell_type": "markdown",
   "metadata": {
    "id": "Y5IKmk7D49_n"
   },
   "source": [
    "## Task 2: Optimize the deep neural network's topography\n",
    "\n",
    "Experiment with the number of layers of the deep neural network and the number of nodes in each layer.  Aim to achieve both of the following goals:\n",
    "\n",
    "*  Lower the loss against the test set.\n",
    "*  Minimize the overall number of nodes in the deep neural net. \n",
    "\n",
    "The two goals may be in conflict."
   ]
  },
  {
   "cell_type": "code",
   "execution_count": null,
   "metadata": {
    "cellView": "form",
    "id": "wYG5qXpP5a9n"
   },
   "outputs": [],
   "source": [
    "#@title Double-click to view a possible answer\n",
    "\n",
    "# Many answers are possible.  We noticed the \n",
    "# following trends:\n",
    "#   * Two layers outperformed one layer, but \n",
    "#     three layers did not perform significantly \n",
    "#     better than two layers.\n",
    "#     In other words, two layers seemed best. \n",
    "#   * Setting the topography as follows produced \n",
    "#     reasonably good results with relatively few \n",
    "#     nodes:\n",
    "#       * 10 nodes in the first layer.\n",
    "#       *  6 nodes in the second layer.\n",
    "#     As the number of nodes in each layer dropped\n",
    "#     below the preceding, test loss increased.  \n",
    "#     However, depending on your application, hardware\n",
    "#     constraints, and the relative pain inflicted \n",
    "#     by a less accurate model, a smaller network \n",
    "#     (for example, 6 nodes in the first layer and \n",
    "#     4 nodes in the second layer) might be \n",
    "#     acceptable."
   ]
  },
  {
   "cell_type": "markdown",
   "metadata": {
    "id": "Pu7R_ZpDopIj"
   },
   "source": [
    "## Task 3: Regularize the deep neural network (if you have enough time)\n",
    "\n",
    "Notice that the model's loss against the test set is *much higher* than the loss against the training set.  In other words, the deep neural network is [overfitting](https://developers.google.com/machine-learning/glossary/#overfitting) to the data in the training set.  To reduce overfitting, regularize the model.  The course has suggested several different ways to regularize a model, including:\n",
    "\n",
    "  * [L1 regularization](https://developers.google.com/machine-learning/glossary/#L1_regularization)\n",
    "  * [L2 regularization](https://developers.google.com/machine-learning/glossary/#L2_regularization)\n",
    "  * [Dropout regularization](https://developers.google.com/machine-learning/glossary/#dropout_regularization)\n",
    "\n",
    "Your task is to experiment with one or more regularization mechanisms to bring the test loss closer to the training loss (while still keeping test loss relatively low).  \n",
    "\n",
    "**Note:** When you add a regularization function to a model, you might need to tweak other hyperparameters. \n",
    "\n",
    "### Implementing L1 or L2 regularization\n",
    "\n",
    "To use L1 or L2 regularization on a hidden layer, specify the `kernel_regularizer` argument to [tf.keras.layers.Dense](https://www.tensorflow.org/api_docs/python/tf/keras/layers/Dense). Assign one of the following methods to this argument:\n",
    "\n",
    "* `tf.keras.regularizers.l1` for L1 regularization\n",
    "* `tf.keras.regularizers.l2` for L2 regularization\n",
    "\n",
    "Each of the preceding methods takes an `l` parameter, which adjusts the [regularization rate](https://developers.google.com/machine-learning/glossary/#regularization_rate). Assign a decimal value between 0 and 1.0 to `l`; the higher the decimal, the greater the regularization. For example, the following applies L2 regularization at a strength of 0.01. \n",
    "\n",
    "```\n",
    "model.add(tf.keras.layers.Dense(units=20, \n",
    "                                activation='relu',\n",
    "                                kernel_regularizer=tf.keras.regularizers.l2(l=0.01),\n",
    "                                name='Hidden1'))\n",
    "```\n",
    "\n",
    "### Implementing Dropout regularization\n",
    "\n",
    "You implement dropout regularization as a separate layer in the topography. For example, the following code demonstrates how to add a dropout regularization layer between the first hidden layer and the second hidden layer:\n",
    "\n",
    "```\n",
    "model.add(tf.keras.layers.Dense( *define first hidden layer*)\n",
    " \n",
    "model.add(tf.keras.layers.Dropout(rate=0.25))\n",
    "\n",
    "model.add(tf.keras.layers.Dense( *define second hidden layer*)\n",
    "```\n",
    "\n",
    "The `rate` parameter to [tf.keras.layers.Dropout](https://www.tensorflow.org/api_docs/python/tf/keras/layers/Dropout) specifies the fraction of nodes that the model should drop out during training. \n"
   ]
  },
  {
   "cell_type": "code",
   "execution_count": 34,
   "metadata": {
    "id": "tflt9TZEDARW"
   },
   "outputs": [
    {
     "name": "stdout",
     "output_type": "stream",
     "text": [
      "Epoch 1/140\n",
      "WARNING:tensorflow:Layers in a Sequential model should only have a single input tensor. Received: inputs={'longitude': <tf.Tensor 'IteratorGetNext:3' shape=(1000,) dtype=float32>, 'latitude': <tf.Tensor 'IteratorGetNext:2' shape=(1000,) dtype=float32>, 'housing_median_age': <tf.Tensor 'IteratorGetNext:1' shape=(1000,) dtype=float32>, 'total_rooms': <tf.Tensor 'IteratorGetNext:7' shape=(1000,) dtype=float32>, 'total_bedrooms': <tf.Tensor 'IteratorGetNext:6' shape=(1000,) dtype=float32>, 'population': <tf.Tensor 'IteratorGetNext:5' shape=(1000,) dtype=float32>, 'households': <tf.Tensor 'IteratorGetNext:0' shape=(1000,) dtype=float32>, 'median_income': <tf.Tensor 'IteratorGetNext:4' shape=(1000,) dtype=float32>}. Consider rewriting this model with the Functional API.\n",
      "WARNING:tensorflow:Layers in a Sequential model should only have a single input tensor. Received: inputs={'longitude': <tf.Tensor 'IteratorGetNext:3' shape=(1000,) dtype=float32>, 'latitude': <tf.Tensor 'IteratorGetNext:2' shape=(1000,) dtype=float32>, 'housing_median_age': <tf.Tensor 'IteratorGetNext:1' shape=(1000,) dtype=float32>, 'total_rooms': <tf.Tensor 'IteratorGetNext:7' shape=(1000,) dtype=float32>, 'total_bedrooms': <tf.Tensor 'IteratorGetNext:6' shape=(1000,) dtype=float32>, 'population': <tf.Tensor 'IteratorGetNext:5' shape=(1000,) dtype=float32>, 'households': <tf.Tensor 'IteratorGetNext:0' shape=(1000,) dtype=float32>, 'median_income': <tf.Tensor 'IteratorGetNext:4' shape=(1000,) dtype=float32>}. Consider rewriting this model with the Functional API.\n"
     ]
    },
    {
     "name": "stderr",
     "output_type": "stream",
     "text": [
      "2024-02-18 16:04:42.425725: I tensorflow/core/grappler/optimizers/custom_graph_optimizer_registry.cc:114] Plugin optimizer for device_type GPU is enabled.\n"
     ]
    },
    {
     "name": "stdout",
     "output_type": "stream",
     "text": [
      "17/17 [==============================] - 1s 33ms/step - loss: 1.8761 - mean_squared_error: 0.7646\n",
      "Epoch 2/140\n",
      "17/17 [==============================] - 1s 31ms/step - loss: 0.7876 - mean_squared_error: 0.4397\n",
      "Epoch 3/140\n",
      "17/17 [==============================] - 0s 26ms/step - loss: 0.5715 - mean_squared_error: 0.4042\n",
      "Epoch 4/140\n",
      "17/17 [==============================] - 1s 32ms/step - loss: 0.5004 - mean_squared_error: 0.3881\n",
      "Epoch 5/140\n",
      "17/17 [==============================] - 0s 28ms/step - loss: 0.4706 - mean_squared_error: 0.3815\n",
      "Epoch 6/140\n",
      "17/17 [==============================] - 1s 31ms/step - loss: 0.4576 - mean_squared_error: 0.3785\n",
      "Epoch 7/140\n",
      "17/17 [==============================] - 1s 36ms/step - loss: 0.4512 - mean_squared_error: 0.3765\n",
      "Epoch 8/140\n",
      "17/17 [==============================] - 0s 29ms/step - loss: 0.4430 - mean_squared_error: 0.3731\n",
      "Epoch 9/140\n",
      "17/17 [==============================] - 0s 28ms/step - loss: 0.4396 - mean_squared_error: 0.3716\n",
      "Epoch 10/140\n",
      "17/17 [==============================] - 1s 31ms/step - loss: 0.4336 - mean_squared_error: 0.3699\n",
      "Epoch 11/140\n",
      "17/17 [==============================] - 1s 30ms/step - loss: 0.4336 - mean_squared_error: 0.3697\n",
      "Epoch 12/140\n",
      "17/17 [==============================] - 0s 28ms/step - loss: 0.4288 - mean_squared_error: 0.3681\n",
      "Epoch 13/140\n",
      "17/17 [==============================] - 1s 33ms/step - loss: 0.4252 - mean_squared_error: 0.3655\n",
      "Epoch 14/140\n",
      "17/17 [==============================] - 1s 29ms/step - loss: 0.4226 - mean_squared_error: 0.3636\n",
      "Epoch 15/140\n",
      "17/17 [==============================] - 0s 29ms/step - loss: 0.4205 - mean_squared_error: 0.3619\n",
      "Epoch 16/140\n",
      "17/17 [==============================] - 1s 31ms/step - loss: 0.4209 - mean_squared_error: 0.3659\n",
      "Epoch 17/140\n",
      "17/17 [==============================] - 1s 32ms/step - loss: 0.4228 - mean_squared_error: 0.3670\n",
      "Epoch 18/140\n",
      "17/17 [==============================] - 0s 29ms/step - loss: 0.4169 - mean_squared_error: 0.3618\n",
      "Epoch 19/140\n",
      "17/17 [==============================] - 0s 29ms/step - loss: 0.4138 - mean_squared_error: 0.3594\n",
      "Epoch 20/140\n",
      "17/17 [==============================] - 1s 31ms/step - loss: 0.4128 - mean_squared_error: 0.3589\n",
      "Epoch 21/140\n",
      "17/17 [==============================] - 1s 30ms/step - loss: 0.4107 - mean_squared_error: 0.3575\n",
      "Epoch 22/140\n",
      "17/17 [==============================] - 1s 29ms/step - loss: 0.4100 - mean_squared_error: 0.3573\n",
      "Epoch 23/140\n",
      "17/17 [==============================] - 0s 28ms/step - loss: 0.4100 - mean_squared_error: 0.3578\n",
      "Epoch 24/140\n",
      "17/17 [==============================] - 0s 26ms/step - loss: 0.4068 - mean_squared_error: 0.3546\n",
      "Epoch 25/140\n",
      "17/17 [==============================] - 1s 35ms/step - loss: 0.4064 - mean_squared_error: 0.3555\n",
      "Epoch 26/140\n",
      "17/17 [==============================] - 1s 35ms/step - loss: 0.4052 - mean_squared_error: 0.3546\n",
      "Epoch 27/140\n",
      "17/17 [==============================] - 0s 29ms/step - loss: 0.4056 - mean_squared_error: 0.3553\n",
      "Epoch 28/140\n",
      "17/17 [==============================] - 0s 28ms/step - loss: 0.4059 - mean_squared_error: 0.3561\n",
      "Epoch 29/140\n",
      "17/17 [==============================] - 0s 28ms/step - loss: 0.4035 - mean_squared_error: 0.3548\n",
      "Epoch 30/140\n",
      "17/17 [==============================] - 1s 35ms/step - loss: 0.4035 - mean_squared_error: 0.3537\n",
      "Epoch 31/140\n",
      "17/17 [==============================] - 1s 31ms/step - loss: 0.4012 - mean_squared_error: 0.3538\n",
      "Epoch 32/140\n",
      "17/17 [==============================] - 1s 32ms/step - loss: 0.4001 - mean_squared_error: 0.3516\n",
      "Epoch 33/140\n",
      "17/17 [==============================] - 0s 28ms/step - loss: 0.4008 - mean_squared_error: 0.3537\n",
      "Epoch 34/140\n",
      "17/17 [==============================] - 1s 31ms/step - loss: 0.4008 - mean_squared_error: 0.3538\n",
      "Epoch 35/140\n",
      "17/17 [==============================] - 0s 30ms/step - loss: 0.4002 - mean_squared_error: 0.3533\n",
      "Epoch 36/140\n",
      "17/17 [==============================] - 1s 30ms/step - loss: 0.3971 - mean_squared_error: 0.3508\n",
      "Epoch 37/140\n",
      "17/17 [==============================] - 1s 30ms/step - loss: 0.4007 - mean_squared_error: 0.3547\n",
      "Epoch 38/140\n",
      "17/17 [==============================] - 0s 28ms/step - loss: 0.4018 - mean_squared_error: 0.3564\n",
      "Epoch 39/140\n",
      "17/17 [==============================] - 1s 30ms/step - loss: 0.3973 - mean_squared_error: 0.3516\n",
      "Epoch 40/140\n",
      "17/17 [==============================] - 1s 30ms/step - loss: 0.3969 - mean_squared_error: 0.3517\n",
      "Epoch 41/140\n",
      "17/17 [==============================] - 0s 27ms/step - loss: 0.3956 - mean_squared_error: 0.3506\n",
      "Epoch 42/140\n",
      "17/17 [==============================] - 0s 27ms/step - loss: 0.3933 - mean_squared_error: 0.3480\n",
      "Epoch 43/140\n",
      "17/17 [==============================] - 0s 29ms/step - loss: 0.3941 - mean_squared_error: 0.3500\n",
      "Epoch 44/140\n",
      "17/17 [==============================] - 0s 28ms/step - loss: 0.3934 - mean_squared_error: 0.3488\n",
      "Epoch 45/140\n",
      "17/17 [==============================] - 0s 29ms/step - loss: 0.3944 - mean_squared_error: 0.3505\n",
      "Epoch 46/140\n",
      "17/17 [==============================] - 1s 29ms/step - loss: 0.3962 - mean_squared_error: 0.3524\n",
      "Epoch 47/140\n",
      "17/17 [==============================] - 1s 32ms/step - loss: 0.3945 - mean_squared_error: 0.3506\n",
      "Epoch 48/140\n",
      "17/17 [==============================] - 1s 30ms/step - loss: 0.3931 - mean_squared_error: 0.3504\n",
      "Epoch 49/140\n",
      "17/17 [==============================] - 0s 27ms/step - loss: 0.3929 - mean_squared_error: 0.3499\n",
      "Epoch 50/140\n",
      "17/17 [==============================] - 1s 31ms/step - loss: 0.3929 - mean_squared_error: 0.3506\n",
      "Epoch 51/140\n",
      "17/17 [==============================] - 1s 30ms/step - loss: 0.3914 - mean_squared_error: 0.3485\n",
      "Epoch 52/140\n",
      "17/17 [==============================] - 1s 31ms/step - loss: 0.3902 - mean_squared_error: 0.3481\n",
      "Epoch 53/140\n",
      "17/17 [==============================] - 1s 31ms/step - loss: 0.3912 - mean_squared_error: 0.3489\n",
      "Epoch 54/140\n",
      "17/17 [==============================] - 0s 25ms/step - loss: 0.3900 - mean_squared_error: 0.3479\n",
      "Epoch 55/140\n",
      "17/17 [==============================] - 0s 28ms/step - loss: 0.3919 - mean_squared_error: 0.3504\n",
      "Epoch 56/140\n",
      "17/17 [==============================] - 0s 28ms/step - loss: 0.3936 - mean_squared_error: 0.3516\n",
      "Epoch 57/140\n",
      "17/17 [==============================] - 0s 27ms/step - loss: 0.3897 - mean_squared_error: 0.3483\n",
      "Epoch 58/140\n",
      "17/17 [==============================] - 1s 32ms/step - loss: 0.3883 - mean_squared_error: 0.3475\n",
      "Epoch 59/140\n",
      "17/17 [==============================] - 1s 31ms/step - loss: 0.3887 - mean_squared_error: 0.3471\n",
      "Epoch 60/140\n",
      "17/17 [==============================] - 0s 29ms/step - loss: 0.3878 - mean_squared_error: 0.3468\n",
      "Epoch 61/140\n",
      "17/17 [==============================] - 0s 29ms/step - loss: 0.3890 - mean_squared_error: 0.3488\n",
      "Epoch 62/140\n",
      "17/17 [==============================] - 0s 27ms/step - loss: 0.3877 - mean_squared_error: 0.3468\n",
      "Epoch 63/140\n",
      "17/17 [==============================] - 0s 28ms/step - loss: 0.3867 - mean_squared_error: 0.3465\n",
      "Epoch 64/140\n",
      "17/17 [==============================] - 1s 34ms/step - loss: 0.3869 - mean_squared_error: 0.3467\n",
      "Epoch 65/140\n",
      "17/17 [==============================] - 0s 27ms/step - loss: 0.3880 - mean_squared_error: 0.3482\n",
      "Epoch 66/140\n",
      "17/17 [==============================] - 0s 30ms/step - loss: 0.3865 - mean_squared_error: 0.3471\n",
      "Epoch 67/140\n",
      "17/17 [==============================] - 0s 28ms/step - loss: 0.3863 - mean_squared_error: 0.3465\n",
      "Epoch 68/140\n",
      "17/17 [==============================] - 0s 28ms/step - loss: 0.3866 - mean_squared_error: 0.3477\n",
      "Epoch 69/140\n",
      "17/17 [==============================] - 1s 30ms/step - loss: 0.3858 - mean_squared_error: 0.3458\n",
      "Epoch 70/140\n",
      "17/17 [==============================] - 0s 29ms/step - loss: 0.3864 - mean_squared_error: 0.3480\n",
      "Epoch 71/140\n",
      "17/17 [==============================] - 1s 30ms/step - loss: 0.3855 - mean_squared_error: 0.3471\n",
      "Epoch 72/140\n",
      "17/17 [==============================] - 1s 31ms/step - loss: 0.3843 - mean_squared_error: 0.3461\n",
      "Epoch 73/140\n",
      "17/17 [==============================] - 0s 26ms/step - loss: 0.3855 - mean_squared_error: 0.3462\n",
      "Epoch 74/140\n",
      "17/17 [==============================] - 0s 27ms/step - loss: 0.3856 - mean_squared_error: 0.3475\n",
      "Epoch 75/140\n",
      "17/17 [==============================] - 0s 28ms/step - loss: 0.3875 - mean_squared_error: 0.3494\n",
      "Epoch 76/140\n",
      "17/17 [==============================] - 0s 28ms/step - loss: 0.3842 - mean_squared_error: 0.3457\n",
      "Epoch 77/140\n",
      "17/17 [==============================] - 0s 28ms/step - loss: 0.3826 - mean_squared_error: 0.3443\n",
      "Epoch 78/140\n",
      "17/17 [==============================] - 1s 31ms/step - loss: 0.3857 - mean_squared_error: 0.3481\n",
      "Epoch 79/140\n",
      "17/17 [==============================] - 0s 30ms/step - loss: 0.3823 - mean_squared_error: 0.3440\n",
      "Epoch 80/140\n",
      "17/17 [==============================] - 1s 32ms/step - loss: 0.3833 - mean_squared_error: 0.3459\n",
      "Epoch 81/140\n",
      "17/17 [==============================] - 1s 29ms/step - loss: 0.3820 - mean_squared_error: 0.3445\n",
      "Epoch 82/140\n",
      "17/17 [==============================] - 0s 29ms/step - loss: 0.3823 - mean_squared_error: 0.3453\n",
      "Epoch 83/140\n",
      "17/17 [==============================] - 1s 33ms/step - loss: 0.3840 - mean_squared_error: 0.3469\n",
      "Epoch 84/140\n",
      "17/17 [==============================] - 0s 29ms/step - loss: 0.3823 - mean_squared_error: 0.3451\n",
      "Epoch 85/140\n",
      "17/17 [==============================] - 0s 25ms/step - loss: 0.3807 - mean_squared_error: 0.3437\n",
      "Epoch 86/140\n",
      "17/17 [==============================] - 0s 28ms/step - loss: 0.3817 - mean_squared_error: 0.3443\n",
      "Epoch 87/140\n",
      "17/17 [==============================] - 0s 28ms/step - loss: 0.3842 - mean_squared_error: 0.3479\n",
      "Epoch 88/140\n",
      "17/17 [==============================] - 0s 30ms/step - loss: 0.3821 - mean_squared_error: 0.3458\n",
      "Epoch 89/140\n",
      "17/17 [==============================] - 0s 29ms/step - loss: 0.3819 - mean_squared_error: 0.3453\n",
      "Epoch 90/140\n",
      "17/17 [==============================] - 0s 27ms/step - loss: 0.3814 - mean_squared_error: 0.3452\n",
      "Epoch 91/140\n",
      "17/17 [==============================] - 0s 28ms/step - loss: 0.3809 - mean_squared_error: 0.3450\n",
      "Epoch 92/140\n",
      "17/17 [==============================] - 0s 27ms/step - loss: 0.3798 - mean_squared_error: 0.3434\n",
      "Epoch 93/140\n",
      "17/17 [==============================] - 0s 27ms/step - loss: 0.3817 - mean_squared_error: 0.3458\n",
      "Epoch 94/140\n",
      "17/17 [==============================] - 1s 31ms/step - loss: 0.3801 - mean_squared_error: 0.3442\n",
      "Epoch 95/140\n",
      "17/17 [==============================] - 1s 32ms/step - loss: 0.3802 - mean_squared_error: 0.3447\n",
      "Epoch 96/140\n",
      "17/17 [==============================] - 0s 25ms/step - loss: 0.3797 - mean_squared_error: 0.3443\n",
      "Epoch 97/140\n",
      "17/17 [==============================] - 0s 29ms/step - loss: 0.3794 - mean_squared_error: 0.3435\n",
      "Epoch 98/140\n",
      "17/17 [==============================] - 1s 30ms/step - loss: 0.3805 - mean_squared_error: 0.3456\n",
      "Epoch 99/140\n",
      "17/17 [==============================] - 0s 25ms/step - loss: 0.3817 - mean_squared_error: 0.3462\n",
      "Epoch 100/140\n",
      "17/17 [==============================] - 1s 30ms/step - loss: 0.3795 - mean_squared_error: 0.3440\n",
      "Epoch 101/140\n",
      "17/17 [==============================] - 0s 28ms/step - loss: 0.3791 - mean_squared_error: 0.3438\n",
      "Epoch 102/140\n",
      "17/17 [==============================] - 1s 31ms/step - loss: 0.3789 - mean_squared_error: 0.3441\n",
      "Epoch 103/140\n",
      "17/17 [==============================] - 1s 30ms/step - loss: 0.3789 - mean_squared_error: 0.3437\n",
      "Epoch 104/140\n",
      "17/17 [==============================] - 0s 26ms/step - loss: 0.3782 - mean_squared_error: 0.3432\n",
      "Epoch 105/140\n",
      "17/17 [==============================] - 0s 25ms/step - loss: 0.3791 - mean_squared_error: 0.3441\n",
      "Epoch 106/140\n",
      "17/17 [==============================] - 1s 31ms/step - loss: 0.3774 - mean_squared_error: 0.3426\n",
      "Epoch 107/140\n",
      "17/17 [==============================] - 1s 32ms/step - loss: 0.3780 - mean_squared_error: 0.3433\n",
      "Epoch 108/140\n",
      "17/17 [==============================] - 0s 25ms/step - loss: 0.3793 - mean_squared_error: 0.3449\n",
      "Epoch 109/140\n",
      "17/17 [==============================] - 0s 24ms/step - loss: 0.3775 - mean_squared_error: 0.3431\n",
      "Epoch 110/140\n",
      "17/17 [==============================] - 0s 28ms/step - loss: 0.3772 - mean_squared_error: 0.3424\n",
      "Epoch 111/140\n",
      "17/17 [==============================] - 0s 29ms/step - loss: 0.3770 - mean_squared_error: 0.3429\n",
      "Epoch 112/140\n",
      "17/17 [==============================] - 0s 27ms/step - loss: 0.3771 - mean_squared_error: 0.3429\n",
      "Epoch 113/140\n",
      "17/17 [==============================] - 0s 28ms/step - loss: 0.3777 - mean_squared_error: 0.3435\n",
      "Epoch 114/140\n",
      "17/17 [==============================] - 0s 27ms/step - loss: 0.3768 - mean_squared_error: 0.3426\n",
      "Epoch 115/140\n",
      "17/17 [==============================] - 0s 26ms/step - loss: 0.3757 - mean_squared_error: 0.3422\n",
      "Epoch 116/140\n",
      "17/17 [==============================] - 0s 26ms/step - loss: 0.3790 - mean_squared_error: 0.3444\n",
      "Epoch 117/140\n",
      "17/17 [==============================] - 0s 28ms/step - loss: 0.3821 - mean_squared_error: 0.3489\n",
      "Epoch 118/140\n",
      "17/17 [==============================] - 1s 36ms/step - loss: 0.3835 - mean_squared_error: 0.3497\n",
      "Epoch 119/140\n",
      "17/17 [==============================] - 1s 31ms/step - loss: 0.3811 - mean_squared_error: 0.3483\n",
      "Epoch 120/140\n",
      "17/17 [==============================] - 0s 25ms/step - loss: 0.3771 - mean_squared_error: 0.3437\n",
      "Epoch 121/140\n",
      "17/17 [==============================] - 0s 26ms/step - loss: 0.3764 - mean_squared_error: 0.3430\n",
      "Epoch 122/140\n",
      "17/17 [==============================] - 0s 25ms/step - loss: 0.3750 - mean_squared_error: 0.3419\n",
      "Epoch 123/140\n",
      "17/17 [==============================] - 0s 28ms/step - loss: 0.3749 - mean_squared_error: 0.3413\n",
      "Epoch 124/140\n",
      "17/17 [==============================] - 0s 28ms/step - loss: 0.3755 - mean_squared_error: 0.3425\n",
      "Epoch 125/140\n",
      "17/17 [==============================] - 0s 25ms/step - loss: 0.3752 - mean_squared_error: 0.3419\n",
      "Epoch 126/140\n",
      "17/17 [==============================] - 0s 28ms/step - loss: 0.3760 - mean_squared_error: 0.3432\n",
      "Epoch 127/140\n",
      "17/17 [==============================] - 0s 29ms/step - loss: 0.3764 - mean_squared_error: 0.3431\n",
      "Epoch 128/140\n",
      "17/17 [==============================] - 0s 27ms/step - loss: 0.3758 - mean_squared_error: 0.3427\n",
      "Epoch 129/140\n",
      "17/17 [==============================] - 0s 28ms/step - loss: 0.3755 - mean_squared_error: 0.3433\n",
      "Epoch 130/140\n",
      "17/17 [==============================] - 0s 27ms/step - loss: 0.3739 - mean_squared_error: 0.3405\n",
      "Epoch 131/140\n",
      "17/17 [==============================] - 0s 29ms/step - loss: 0.3743 - mean_squared_error: 0.3416\n",
      "Epoch 132/140\n",
      "17/17 [==============================] - 0s 26ms/step - loss: 0.3738 - mean_squared_error: 0.3418\n",
      "Epoch 133/140\n",
      "17/17 [==============================] - 1s 30ms/step - loss: 0.3746 - mean_squared_error: 0.3421\n",
      "Epoch 134/140\n",
      "17/17 [==============================] - 0s 27ms/step - loss: 0.3757 - mean_squared_error: 0.3432\n",
      "Epoch 135/140\n",
      "17/17 [==============================] - 0s 27ms/step - loss: 0.3737 - mean_squared_error: 0.3411\n",
      "Epoch 136/140\n",
      "17/17 [==============================] - 0s 26ms/step - loss: 0.3757 - mean_squared_error: 0.3441\n",
      "Epoch 137/140\n",
      "17/17 [==============================] - 0s 25ms/step - loss: 0.3747 - mean_squared_error: 0.3422\n",
      "Epoch 138/140\n",
      "17/17 [==============================] - 0s 28ms/step - loss: 0.3733 - mean_squared_error: 0.3417\n",
      "Epoch 139/140\n",
      "17/17 [==============================] - 0s 26ms/step - loss: 0.3733 - mean_squared_error: 0.3411\n",
      "Epoch 140/140\n",
      "17/17 [==============================] - 0s 29ms/step - loss: 0.3745 - mean_squared_error: 0.3426\n"
     ]
    },
    {
     "data": {
      "image/png": "[encoded data removed]",
      "text/plain": [
       "<Figure size 640x480 with 1 Axes>"
      ]
     },
     "metadata": {},
     "output_type": "display_data"
    },
    {
     "name": "stdout",
     "output_type": "stream",
     "text": [
      "\n",
      " Evaluate the new model against the test set:\n",
      "WARNING:tensorflow:AutoGraph could not transform <function Model.make_test_function.<locals>.test_function at 0x2dca27670> and will run it as-is.\n",
      "Please report this to the TensorFlow team. When filing the bug, set the verbosity to 10 (on Linux, `export AUTOGRAPH_VERBOSITY=10`) and attach the full output.\n",
      "Cause: closure mismatch, requested ('self', 'step_function'), but source function had ()\n",
      "To silence this warning, decorate the function with @tf.autograph.experimental.do_not_convert\n",
      "WARNING: AutoGraph could not transform <function Model.make_test_function.<locals>.test_function at 0x2dca27670> and will run it as-is.\n",
      "Please report this to the TensorFlow team. When filing the bug, set the verbosity to 10 (on Linux, `export AUTOGRAPH_VERBOSITY=10`) and attach the full output.\n",
      "Cause: closure mismatch, requested ('self', 'step_function'), but source function had ()\n",
      "To silence this warning, decorate the function with @tf.autograph.experimental.do_not_convert\n",
      "WARNING:tensorflow:Layers in a Sequential model should only have a single input tensor. Received: inputs={'longitude': <tf.Tensor 'IteratorGetNext:3' shape=(1000,) dtype=float32>, 'latitude': <tf.Tensor 'IteratorGetNext:2' shape=(1000,) dtype=float32>, 'housing_median_age': <tf.Tensor 'IteratorGetNext:1' shape=(1000,) dtype=float32>, 'total_rooms': <tf.Tensor 'IteratorGetNext:7' shape=(1000,) dtype=float32>, 'total_bedrooms': <tf.Tensor 'IteratorGetNext:6' shape=(1000,) dtype=float32>, 'population': <tf.Tensor 'IteratorGetNext:5' shape=(1000,) dtype=float32>, 'households': <tf.Tensor 'IteratorGetNext:0' shape=(1000,) dtype=float32>, 'median_income': <tf.Tensor 'IteratorGetNext:4' shape=(1000,) dtype=float32>}. Consider rewriting this model with the Functional API.\n",
      "3/3 [==============================] - 0s 26ms/step - loss: 0.4069 - mean_squared_error: 0.3746\n"
     ]
    },
    {
     "name": "stderr",
     "output_type": "stream",
     "text": [
      "2024-02-18 16:05:52.250545: I tensorflow/core/grappler/optimizers/custom_graph_optimizer_registry.cc:114] Plugin optimizer for device_type GPU is enabled.\n"
     ]
    },
    {
     "data": {
      "text/plain": [
       "[0.40687114000320435, 0.3746451139450073]"
      ]
     },
     "execution_count": 34,
     "metadata": {},
     "output_type": "execute_result"
    }
   ],
   "source": [
    "#@title Double-click for a possible solution\n",
    "\n",
    "# The following \"solution\" uses L2 regularization to bring training loss\n",
    "# and test loss closer to each other. Many, many other solutions are possible.\n",
    "\n",
    "\n",
    "def create_model(my_learning_rate, my_feature_layer):\n",
    "  \"\"\"Create and compile a simple linear regression model.\"\"\"\n",
    "\n",
    "  # Discard any pre-existing version of the model.\n",
    "  model = None\n",
    "\n",
    "  # Most simple tf.keras models are sequential.\n",
    "  model = tf.keras.models.Sequential()\n",
    "\n",
    "  # Add the layer containing the feature columns to the model.\n",
    "  model.add(my_feature_layer)\n",
    "\n",
    "  # Describe the topography of the model. \n",
    "\n",
    "  # Implement L2 regularization in the first hidden layer.\n",
    "  model.add(tf.keras.layers.Dense(units=20, \n",
    "                                  activation='relu',\n",
    "                                  kernel_regularizer=tf.keras.regularizers.l2(0.04),\n",
    "                                  name='Hidden1'))\n",
    "  \n",
    "  # Implement L2 regularization in the second hidden layer.\n",
    "  model.add(tf.keras.layers.Dense(units=12, \n",
    "                                  activation='relu', \n",
    "                                  kernel_regularizer=tf.keras.regularizers.l2(0.04),\n",
    "                                  name='Hidden2'))\n",
    "\n",
    "  # Define the output layer.\n",
    "  model.add(tf.keras.layers.Dense(units=1,  \n",
    "                                  name='Output'))                              \n",
    "  \n",
    "  model.compile(optimizer=tf.keras.optimizers.Adam(learning_rate=my_learning_rate),\n",
    "                loss=\"mean_squared_error\",\n",
    "                metrics=[tf.keras.metrics.MeanSquaredError()])\n",
    "\n",
    "  return model     \n",
    "\n",
    "# Call the new create_model function and the other (unchanged) functions.\n",
    "\n",
    "# The following variables are the hyperparameters.\n",
    "learning_rate = 0.007\n",
    "epochs = 140\n",
    "batch_size = 1000\n",
    "\n",
    "label_name = \"median_house_value\"\n",
    "\n",
    "# Establish the model's topography.\n",
    "my_model = create_model(learning_rate, my_feature_layer)\n",
    "\n",
    "# Train the model on the normalized training set.\n",
    "epochs, mse = train_model(my_model, train_df_norm, epochs, \n",
    "                          label_name, batch_size)\n",
    "plot_the_loss_curve(epochs, mse)\n",
    "\n",
    "test_features = {name:np.array(value) for name, value in test_df_norm.items()}\n",
    "test_label = np.array(test_features.pop(label_name)) # isolate the label\n",
    "print(\"\\n Evaluate the new model against the test set:\")\n",
    "my_model.evaluate(x = test_features, y = test_label, batch_size=batch_size) "
   ]
  },
  {
   "cell_type": "code",
   "execution_count": null,
   "metadata": {},
   "outputs": [],
   "source": []
  }
 ],
 "metadata": {
  "colab": {
   "name": "Intro to Neural Nets.ipynb",
   "private_outputs": true,
   "provenance": []
  },
  "kernelspec": {
   "display_name": "Python 3 (ipykernel)",
   "language": "python",
   "name": "python3"
  },
  "language_info": {
   "codemirror_mode": {
    "name": "ipython",
    "version": 3
   },
   "file_extension": ".py",
   "mimetype": "text/x-python",
   "name": "python",
   "nbconvert_exporter": "python",
   "pygments_lexer": "ipython3",
   "version": "3.8.13"
  }
 },
 "nbformat": 4,
 "nbformat_minor": 4
}
