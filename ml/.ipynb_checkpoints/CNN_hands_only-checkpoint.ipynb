{
 "cells": [
  {
   "cell_type": "code",
   "execution_count": 17,
   "id": "547bdcb6-ae8d-4276-9202-1dfb34159ab0",
   "metadata": {
    "tags": []
   },
   "outputs": [
    {
     "name": "stdout",
     "output_type": "stream",
     "text": [
      "Requirement already satisfied: python-mnist in /Users/alex/miniforge3/envs/mac-ml/lib/python3.8/site-packages (0.7)\n",
      "\u001b[33mWARNING: Error parsing requirements for jupyter: [Errno 2] No such file or directory: '/Users/alex/miniforge3/envs/mac-ml/lib/python3.8/site-packages/jupyter-1.0.0.dist-info/METADATA'\u001b[0m\u001b[33m\n",
      "\u001b[0mCollecting mlxtend\n",
      "  Downloading mlxtend-0.22.0-py2.py3-none-any.whl (1.4 MB)\n",
      "\u001b[2K     \u001b[90m━━━━━━━━━━━━━━━━━━━━━━━━━━━━━━━━━━━━━━━━\u001b[0m \u001b[32m1.4/1.4 MB\u001b[0m \u001b[31m1.8 MB/s\u001b[0m eta \u001b[36m0:00:00\u001b[0m00:01\u001b[0m00:01\u001b[0m\n",
      "\u001b[?25hRequirement already satisfied: setuptools in /Users/alex/miniforge3/envs/mac-ml/lib/python3.8/site-packages (from mlxtend) (67.6.1)\n",
      "Requirement already satisfied: scipy>=1.2.1 in /Users/alex/miniforge3/envs/mac-ml/lib/python3.8/site-packages (from mlxtend) (1.9.3)\n",
      "Requirement already satisfied: scikit-learn>=1.0.2 in /Users/alex/miniforge3/envs/mac-ml/lib/python3.8/site-packages (from mlxtend) (1.1.3)\n",
      "Requirement already satisfied: pandas>=0.24.2 in /Users/alex/miniforge3/envs/mac-ml/lib/python3.8/site-packages (from mlxtend) (1.5.3)\n",
      "Requirement already satisfied: joblib>=0.13.2 in /Users/alex/miniforge3/envs/mac-ml/lib/python3.8/site-packages (from mlxtend) (1.2.0)\n",
      "Requirement already satisfied: numpy>=1.16.2 in /Users/alex/miniforge3/envs/mac-ml/lib/python3.8/site-packages (from mlxtend) (1.23.3)\n",
      "Requirement already satisfied: matplotlib>=3.0.0 in /Users/alex/miniforge3/envs/mac-ml/lib/python3.8/site-packages (from mlxtend) (3.6.2)\n",
      "Requirement already satisfied: pyparsing>=2.2.1 in /Users/alex/miniforge3/envs/mac-ml/lib/python3.8/site-packages (from matplotlib>=3.0.0->mlxtend) (3.0.9)\n",
      "Requirement already satisfied: fonttools>=4.22.0 in /Users/alex/miniforge3/envs/mac-ml/lib/python3.8/site-packages (from matplotlib>=3.0.0->mlxtend) (4.37.2)\n",
      "Requirement already satisfied: cycler>=0.10 in /Users/alex/miniforge3/envs/mac-ml/lib/python3.8/site-packages (from matplotlib>=3.0.0->mlxtend) (0.11.0)\n",
      "Requirement already satisfied: pillow>=6.2.0 in /Users/alex/miniforge3/envs/mac-ml/lib/python3.8/site-packages (from matplotlib>=3.0.0->mlxtend) (9.4.0)\n",
      "Requirement already satisfied: contourpy>=1.0.1 in /Users/alex/miniforge3/envs/mac-ml/lib/python3.8/site-packages (from matplotlib>=3.0.0->mlxtend) (1.0.5)\n",
      "Requirement already satisfied: packaging>=20.0 in /Users/alex/miniforge3/envs/mac-ml/lib/python3.8/site-packages (from matplotlib>=3.0.0->mlxtend) (23.0)\n",
      "Requirement already satisfied: kiwisolver>=1.0.1 in /Users/alex/miniforge3/envs/mac-ml/lib/python3.8/site-packages (from matplotlib>=3.0.0->mlxtend) (1.4.4)\n",
      "Requirement already satisfied: python-dateutil>=2.7 in /Users/alex/miniforge3/envs/mac-ml/lib/python3.8/site-packages (from matplotlib>=3.0.0->mlxtend) (2.8.2)\n",
      "Requirement already satisfied: pytz>=2020.1 in /Users/alex/miniforge3/envs/mac-ml/lib/python3.8/site-packages (from pandas>=0.24.2->mlxtend) (2023.3)\n",
      "Requirement already satisfied: threadpoolctl>=2.0.0 in /Users/alex/miniforge3/envs/mac-ml/lib/python3.8/site-packages (from scikit-learn>=1.0.2->mlxtend) (3.1.0)\n",
      "Requirement already satisfied: six>=1.5 in /Users/alex/miniforge3/envs/mac-ml/lib/python3.8/site-packages (from python-dateutil>=2.7->matplotlib>=3.0.0->mlxtend) (1.16.0)\n",
      "\u001b[33mWARNING: Error parsing requirements for jupyter: [Errno 2] No such file or directory: '/Users/alex/miniforge3/envs/mac-ml/lib/python3.8/site-packages/jupyter-1.0.0.dist-info/METADATA'\u001b[0m\u001b[33m\n",
      "\u001b[0mInstalling collected packages: mlxtend\n",
      "Successfully installed mlxtend-0.22.0\n"
     ]
    }
   ],
   "source": [
    "!pip install python-mnist\n",
    "!pip install mlxtend"
   ]
  },
  {
   "cell_type": "code",
   "execution_count": 4,
   "id": "c95ee0b7-3a8b-4d3e-b3b6-82c4dd7d8798",
   "metadata": {
    "tags": []
   },
   "outputs": [],
   "source": [
    "import numpy as np\n",
    "from mnist import MNIST\n",
    "\n",
    "# Load MNIST data\n",
    "mndata = MNIST('../python-mnist/data')\n",
    "#mndata.gz=True\n",
    "images, labels = mndata.load_training()\n",
    "\n",
    "# Preprocess data\n",
    "images = np.array(images) / 255.0\n",
    "labels = np.eye(10)[np.array(labels)]\n"
   ]
  },
  {
   "cell_type": "code",
   "execution_count": 18,
   "id": "a7f2fb25-5b7f-403f-a099-d03e0b837eb3",
   "metadata": {},
   "outputs": [],
   "source": [
    "import numpy as np\n",
    "import matplotlib.pyplot as plt\n",
    "import os\n",
    "from mlxtend.data import loadlocal_mnist\n",
    "from sklearn.model_selection import train_test_split\n",
    "import matplotlib.pyplot as plt\n",
    "# number of samples in the data set\n",
    "N_SAMPLES = 1000\n",
    "# ratio between training and test sets\n",
    "TEST_SIZE = 0.1\n",
    "# size of the photo\n",
    "PHOTO_SIZE = 28\n",
    "# number of pixels in the photo\n",
    "PIXEL_NUMBER = PHOTO_SIZE * PHOTO_SIZE\n",
    "# neural network architecture\n",
    "NN_ARCHITECTURE = [\n",
    "    {\"input_dim\": PIXEL_NUMBER, \"output_dim\": 1000, \"activation\": \"relu\"},\n",
    "    {\"input_dim\": 1000, \"output_dim\": 1000, \"activation\": \"relu\"},\n",
    "    {\"input_dim\": 1000, \"output_dim\": 500, \"activation\": \"relu\"},\n",
    "    {\"input_dim\": 500, \"output_dim\": 500, \"activation\": \"relu\"},\n",
    "    {\"input_dim\": 500, \"output_dim\": 10, \"activation\": \"softmax\"}]"
   ]
  },
  {
   "cell_type": "code",
   "execution_count": 9,
   "id": "ab5ac196-1ee7-49d8-967a-c3c188b0e5fd",
   "metadata": {},
   "outputs": [],
   "source": [
    "def download_mnist_dataset():\n",
    "    # The MNIST data set is available at http://yann.lecun.com, let's use curl to download it\n",
    "    if not os.path.exists(\"train-images-idx3-ubyte\"):\n",
    "        !curl -O http://yann.lecun.com/exdb/mnist/train-images-idx3-ubyte.gz\n",
    "        !curl -O http://yann.lecun.com/exdb/mnist/train-labels-idx1-ubyte.gz\n",
    "        !curl -O http://yann.lecun.com/exdb/mnist/t10k-images-idx3-ubyte.gz\n",
    "        !curl -O http://yann.lecun.com/exdb/mnist/t10k-labels-idx1-ubyte.gz\n",
    "        !gunzip t*-ubyte.gz\n",
    "        \n",
    "    # Let's use loadlocal_mnist available in mlxtend.data to get data in numpy array form.\n",
    "    X1, y1 = loadlocal_mnist(\n",
    "        images_path=\"train-images-idx3-ubyte\", \n",
    "        labels_path=\"train-labels-idx1-ubyte\")\n",
    "\n",
    "    X2, y2 = loadlocal_mnist(\n",
    "        images_path=\"t10k-images-idx3-ubyte\", \n",
    "        labels_path=\"t10k-labels-idx1-ubyte\")\n",
    "    \n",
    "    # We normalize the brightness values for pixels\n",
    "    X1 = X1.reshape(X1.shape[0], -1) / 255\n",
    "    X2 = X2.reshape(X2.shape[0], -1) /255\n",
    "\n",
    "    # Combine downloaded data bundles\n",
    "    X = np.concatenate([X1, X2])\n",
    "    y = np.concatenate([y1, y2])\n",
    "    \n",
    "    return X, y"
   ]
  },
  {
   "cell_type": "code",
   "execution_count": 10,
   "id": "ead3b683-6874-4d4c-b5a2-2730e66abca2",
   "metadata": {},
   "outputs": [],
   "source": [
    "def one_hot_encoding(y):\n",
    "    n_values = np.max(y) + 1\n",
    "    return np.eye(n_values)[y]"
   ]
  },
  {
   "cell_type": "code",
   "execution_count": 11,
   "id": "8155b6b5-6907-4c55-833c-66497136e66f",
   "metadata": {},
   "outputs": [],
   "source": [
    "def prepare_data(split_percentage):\n",
    "    # Download data\n",
    "    X, y = download_mnist_dataset()\n",
    "    # One hot encode labels\n",
    "    y = one_hot_encoding(y)\n",
    "    # Split data\n",
    "    X_train, X_test, y_train, y_test = train_test_split(X, y, test_size=split_percentage, random_state=42)\n",
    "    return np.transpose(X_train), np.transpose(X_test), np.transpose(y_train), np.transpose(y_test)"
   ]
  },
  {
   "cell_type": "code",
   "execution_count": 19,
   "id": "f402c1bf-9f24-41f8-b5eb-9acd7b1b6d97",
   "metadata": {},
   "outputs": [
    {
     "name": "stdout",
     "output_type": "stream",
     "text": [
      "  % Total    % Received % Xferd  Average Speed   Time    Time     Time  Current\n",
      "                                 Dload  Upload   Total   Spent    Left  Speed\n",
      "100 9680k  100 9680k    0     0  1659k      0  0:00:05  0:00:05 --:--:-- 1725kk      0  0:00:05  0:00:05 --:--:-- 1720k\n",
      "  % Total    % Received % Xferd  Average Speed   Time    Time     Time  Current\n",
      "                                 Dload  Upload   Total   Spent    Left  Speed\n",
      "100 28881  100 28881    0     0  84446      0 --:--:-- --:--:-- --:--:-- 85194\n",
      "  % Total    % Received % Xferd  Average Speed   Time    Time     Time  Current\n",
      "                                 Dload  Upload   Total   Spent    Left  Speed\n",
      "100 1610k  100 1610k    0     0  1027k      0  0:00:01  0:00:01 --:--:-- 1030k\n",
      "  % Total    % Received % Xferd  Average Speed   Time    Time     Time  Current\n",
      "                                 Dload  Upload   Total   Spent    Left  Speed\n",
      "100  4542  100  4542    0     0  13485      0 --:--:-- --:--:-- --:--:-- 13639\n"
     ]
    }
   ],
   "source": [
    "X_train, X_test, y_train, y_test = prepare_data(TEST_SIZE)"
   ]
  },
  {
   "cell_type": "code",
   "execution_count": 20,
   "id": "bb7ac988-247e-40c9-bcff-20514bf83910",
   "metadata": {},
   "outputs": [],
   "source": [
    "def plot_digit(X, y, idx):\n",
    "    img = X[:, idx].reshape(28,28)\n",
    "    plt.imshow(img, cmap='Greys',  interpolation='nearest')\n",
    "    plt.title('true label: %d' % np.where(y[:, idx] != 0)[0][0])\n",
    "    plt.show()"
   ]
  },
  {
   "cell_type": "code",
   "execution_count": 21,
   "id": "ad6ca048-0b98-493e-9e62-0946f2ad6045",
   "metadata": {},
   "outputs": [
    {
     "data": {
      "image/png": "[encoded data removed]",
      "text/plain": [
       "<Figure size 640x480 with 1 Axes>"
      ]
     },
     "metadata": {},
     "output_type": "display_data"
    }
   ],
   "source": [
    "plot_digit(X_train, y_train, 3)"
   ]
  },
  {
   "cell_type": "code",
   "execution_count": 22,
   "id": "79a67172-80a9-4c65-a4c8-cf9b029df0ef",
   "metadata": {},
   "outputs": [],
   "source": [
    "def sigmoid(Z):\n",
    "    return 1/(1+np.exp(-Z))\n",
    "\n",
    "def relu(Z):\n",
    "    return np.maximum(0,Z)\n",
    "\n",
    "def softmax(Z):\n",
    "    # Column wise softmax\n",
    "    e_Z = np.exp(Z - np.max(Z))\n",
    "    return e_Z / e_Z.sum(axis = 0)\n",
    "\n",
    "def sigmoid_backward(dA, Z):\n",
    "    sig = sigmoid(Z)\n",
    "    return dA * sig * (1 - sig)\n",
    "\n",
    "def relu_backward(dA, Z):\n",
    "    dZ = np.array(dA, copy = True)\n",
    "    dZ[Z <= 0] = 0\n",
    "    return dZ\n"
   ]
  },
  {
   "cell_type": "code",
   "execution_count": 23,
   "id": "8e9778ee-8fba-45ec-9f1e-6514f91caefe",
   "metadata": {},
   "outputs": [],
   "source": [
    "scores2D = np.array([[1, 2, 3, 6],\n",
    "                     [2, 4, 5, 6],\n",
    "                     [3, 8, 7, 6]])"
   ]
  },
  {
   "cell_type": "code",
   "execution_count": 24,
   "id": "812a516a-cfc4-48b0-90f9-e0c69b388e58",
   "metadata": {},
   "outputs": [
    {
     "data": {
      "text/plain": [
       "array([[0.09003057, 0.00242826, 0.01587624, 0.33333333],\n",
       "       [0.24472847, 0.01794253, 0.11731043, 0.33333333],\n",
       "       [0.66524096, 0.97962921, 0.86681333, 0.33333333]])"
      ]
     },
     "execution_count": 24,
     "metadata": {},
     "output_type": "execute_result"
    }
   ],
   "source": [
    "softmax(scores2D)"
   ]
  },
  {
   "cell_type": "code",
   "execution_count": 25,
   "id": "ac316191-af6d-4c6a-999c-1b8bb8161198",
   "metadata": {},
   "outputs": [
    {
     "name": "stderr",
     "output_type": "stream",
     "text": [
      "<>:22: SyntaxWarning: \"is\" with a literal. Did you mean \"==\"?\n",
      "<>:24: SyntaxWarning: \"is\" with a literal. Did you mean \"==\"?\n",
      "<>:26: SyntaxWarning: \"is\" with a literal. Did you mean \"==\"?\n",
      "<>:22: SyntaxWarning: \"is\" with a literal. Did you mean \"==\"?\n",
      "<>:24: SyntaxWarning: \"is\" with a literal. Did you mean \"==\"?\n",
      "<>:26: SyntaxWarning: \"is\" with a literal. Did you mean \"==\"?\n",
      "/var/folders/49/7n60k7011n11zcdptxxpmvvh0000gn/T/ipykernel_47951/1327592624.py:22: SyntaxWarning: \"is\" with a literal. Did you mean \"==\"?\n",
      "  if activation is \"relu\":\n",
      "/var/folders/49/7n60k7011n11zcdptxxpmvvh0000gn/T/ipykernel_47951/1327592624.py:24: SyntaxWarning: \"is\" with a literal. Did you mean \"==\"?\n",
      "  elif activation is \"sigmoid\":\n",
      "/var/folders/49/7n60k7011n11zcdptxxpmvvh0000gn/T/ipykernel_47951/1327592624.py:26: SyntaxWarning: \"is\" with a literal. Did you mean \"==\"?\n",
      "  elif activation is \"softmax\":\n"
     ]
    }
   ],
   "source": [
    "def init_layers(nn_architecture, seed = 99):\n",
    "    np.random.seed(seed)\n",
    "    number_of_layers = len(nn_architecture)\n",
    "    params_values = {}\n",
    "    \n",
    "    for idx, layer in enumerate(nn_architecture):\n",
    "        layer_idx = idx + 1\n",
    "        \n",
    "        layer_input_size = layer[\"input_dim\"]\n",
    "        layer_output_size = layer[\"output_dim\"]\n",
    "        \n",
    "        params_values['W' + str(layer_idx)] = np.random.randn(\n",
    "            layer_output_size, layer_input_size) * 0.1\n",
    "        params_values['b' + str(layer_idx)] = np.random.randn(\n",
    "            layer_output_size, 1) * 0.1\n",
    "        \n",
    "    return params_values\n",
    "\n",
    "def single_layer_forward_propagation(A_prev, W_curr, b_curr, activation=\"relu\"):\n",
    "    Z_curr = np.dot(W_curr, A_prev) + b_curr\n",
    "    \n",
    "    if activation is \"relu\":\n",
    "        activation_func = relu\n",
    "    elif activation is \"sigmoid\":\n",
    "        activation_func = sigmoid\n",
    "    elif activation is \"softmax\":\n",
    "        activation_func = softmax\n",
    "    else:\n",
    "        raise Exception('Non-supported activation function')\n",
    "        \n",
    "    return activation_func(Z_curr), Z_curr\n",
    "\n",
    "def full_forward_propagation(X, params_values, nn_architecture):\n",
    "    memory = {}\n",
    "    A_curr = X\n",
    "    \n",
    "    for idx, layer in enumerate(nn_architecture):\n",
    "        layer_idx = idx + 1\n",
    "        A_prev = A_curr\n",
    "        \n",
    "        activ_function_curr = layer[\"activation\"]\n",
    "        W_curr = params_values[\"W\" + str(layer_idx)]\n",
    "        b_curr = params_values[\"b\" + str(layer_idx)]\n",
    "        A_curr, Z_curr = single_layer_forward_propagation(A_prev, W_curr, b_curr, activ_function_curr)\n",
    "        \n",
    "        memory[\"A\" + str(idx)] = A_prev\n",
    "        memory[\"Z\" + str(layer_idx)] = Z_curr\n",
    "       \n",
    "    return A_curr, memory"
   ]
  },
  {
   "cell_type": "code",
   "execution_count": 26,
   "id": "f892a048-b26f-4dca-a742-719d7d9cf6a0",
   "metadata": {},
   "outputs": [],
   "source": [
    "def multi_class_cross_entropy_loss(Y_hat, Y):\n",
    "    m = Y_hat.shape[1]\n",
    "    loss = - np.sum(Y * np.log(Y_hat)) / m\n",
    "    return loss"
   ]
  },
  {
   "cell_type": "code",
   "execution_count": 27,
   "id": "3b808388-461e-499a-8b21-ea2c38118d7c",
   "metadata": {},
   "outputs": [],
   "source": [
    "def multi_class_accuracy(Y_hat, Y):\n",
    "    n_values = Y_hat.shape[0]\n",
    "    values = Y_hat.argmax(axis=0)\n",
    "    Y_hat_one_hot = np.eye(n_values)[values].T\n",
    "    return (Y_hat_one_hot == Y).all(axis=0).mean()"
   ]
  },
  {
   "cell_type": "code",
   "execution_count": 28,
   "id": "a60a29d8-3b39-433f-816c-9f382fca20f8",
   "metadata": {},
   "outputs": [
    {
     "name": "stderr",
     "output_type": "stream",
     "text": [
      "<>:4: SyntaxWarning: \"is\" with a literal. Did you mean \"==\"?\n",
      "<>:6: SyntaxWarning: \"is\" with a literal. Did you mean \"==\"?\n",
      "<>:8: SyntaxWarning: \"is\" with a literal. Did you mean \"==\"?\n",
      "<>:4: SyntaxWarning: \"is\" with a literal. Did you mean \"==\"?\n",
      "<>:6: SyntaxWarning: \"is\" with a literal. Did you mean \"==\"?\n",
      "<>:8: SyntaxWarning: \"is\" with a literal. Did you mean \"==\"?\n",
      "/var/folders/49/7n60k7011n11zcdptxxpmvvh0000gn/T/ipykernel_47951/2740823992.py:4: SyntaxWarning: \"is\" with a literal. Did you mean \"==\"?\n",
      "  if activation is \"relu\":\n",
      "/var/folders/49/7n60k7011n11zcdptxxpmvvh0000gn/T/ipykernel_47951/2740823992.py:6: SyntaxWarning: \"is\" with a literal. Did you mean \"==\"?\n",
      "  elif activation is \"sigmoid\":\n",
      "/var/folders/49/7n60k7011n11zcdptxxpmvvh0000gn/T/ipykernel_47951/2740823992.py:8: SyntaxWarning: \"is\" with a literal. Did you mean \"==\"?\n",
      "  elif activation is \"softmax\":\n"
     ]
    }
   ],
   "source": [
    "def single_layer_backward_propagation(dA_curr, W_curr, b_curr, Z_curr, A_prev, activation=\"relu\"):\n",
    "    m = A_prev.shape[1]\n",
    "    \n",
    "    if activation is \"relu\":\n",
    "        backward_activation_func = relu_backward\n",
    "    elif activation is \"sigmoid\":\n",
    "        backward_activation_func = sigmoid_backward\n",
    "    elif activation is \"softmax\":\n",
    "        # TEST OF COURSERA SOLUTION\n",
    "        backward_activation_func = lambda dA_curr, Z_curr: dA_curr\n",
    "    else:\n",
    "        raise Exception('Non-supported activation function')\n",
    "    \n",
    "    dZ_curr = backward_activation_func(dA_curr, Z_curr)\n",
    "    dW_curr = np.dot(dZ_curr, A_prev.T) / m\n",
    "    db_curr = np.sum(dZ_curr, axis=1, keepdims=True) / m\n",
    "    dA_prev = np.dot(W_curr.T, dZ_curr)\n",
    "\n",
    "    return dA_prev, dW_curr, db_curr"
   ]
  },
  {
   "cell_type": "code",
   "execution_count": 29,
   "id": "0511358d-8bf9-41d0-a1a7-cc9284f9e667",
   "metadata": {},
   "outputs": [],
   "source": [
    "def full_backward_propagation(Y_hat, Y, memory, params_values, nn_architecture, eps = 0.000000000001):\n",
    "    grads_values = {}\n",
    "    m = Y.shape[1]\n",
    "    Y = Y.reshape(Y_hat.shape)\n",
    "    \n",
    "#     dA_prev = - (np.divide(Y, Y_hat + eps) - np.divide(1 - Y, 1 - Y_hat + eps))\n",
    "    # TEST OF COURSERA SOLUTION\n",
    "    dA_prev = Y_hat - Y\n",
    "    \n",
    "    for layer_idx_prev, layer in reversed(list(enumerate(nn_architecture))):\n",
    "        layer_idx_curr = layer_idx_prev + 1\n",
    "        activ_function_curr = layer[\"activation\"]\n",
    "        \n",
    "        dA_curr = dA_prev\n",
    "        \n",
    "        A_prev = memory[\"A\" + str(layer_idx_prev)]\n",
    "        Z_curr = memory[\"Z\" + str(layer_idx_curr)]\n",
    "        \n",
    "        W_curr = params_values[\"W\" + str(layer_idx_curr)]\n",
    "        b_curr = params_values[\"b\" + str(layer_idx_curr)]\n",
    "        \n",
    "        dA_prev, dW_curr, db_curr = single_layer_backward_propagation(\n",
    "            dA_curr, W_curr, b_curr, Z_curr, A_prev, activ_function_curr)\n",
    "        \n",
    "        grads_values[\"dW\" + str(layer_idx_curr)] = dW_curr\n",
    "        grads_values[\"db\" + str(layer_idx_curr)] = db_curr\n",
    "    \n",
    "    return grads_values"
   ]
  },
  {
   "cell_type": "code",
   "execution_count": 30,
   "id": "f998253b-ac45-4f7c-a9e8-c7e509eda73c",
   "metadata": {},
   "outputs": [],
   "source": [
    "def update(params_values, grads_values, nn_architecture, learning_rate):\n",
    "\n",
    "    for layer_idx, layer in enumerate(nn_architecture, 1):\n",
    "        params_values[\"W\" + str(layer_idx)] -= learning_rate * grads_values[\"dW\" + str(layer_idx)]        \n",
    "        params_values[\"b\" + str(layer_idx)] -= learning_rate * grads_values[\"db\" + str(layer_idx)]\n",
    "\n",
    "    return params_values"
   ]
  },
  {
   "cell_type": "code",
   "execution_count": 31,
   "id": "cec5b078-555c-4557-ad8a-6b2b5a111351",
   "metadata": {},
   "outputs": [],
   "source": [
    "def train(X, Y, nn_architecture, epochs, learning_rate, verbose=False, callback=None):\n",
    "    params_values = init_layers(nn_architecture, 2)\n",
    "    cost_history = []\n",
    "    accuracy_history = []\n",
    "    \n",
    "    for i in range(epochs):\n",
    "        Y_hat, cashe = full_forward_propagation(X, params_values, nn_architecture)\n",
    "        \n",
    "#         print(Y_hat.shape)\n",
    "#         print(Y.shape)\n",
    "        \n",
    "        cost = multi_class_cross_entropy_loss(Y_hat, Y)\n",
    "        cost_history.append(cost)\n",
    "        \n",
    "#         print(cost)\n",
    "        \n",
    "        accuracy = multi_class_accuracy(Y_hat, Y)\n",
    "        accuracy_history.append(accuracy)\n",
    "        \n",
    "#         print(accuracy)\n",
    "        \n",
    "        grads_values = full_backward_propagation(Y_hat, Y, cashe, params_values, nn_architecture)\n",
    "        params_values = update(params_values, grads_values, nn_architecture, learning_rate)\n",
    "        \n",
    "        if(i % 5 == 0):\n",
    "            if(verbose):\n",
    "                print(\"Iteration: {:05} - cost: {:.5f} - accuracy: {:.5f}\".format(i, cost, accuracy))\n",
    "            if(callback is not None):\n",
    "                callback(i, params_values)\n",
    "            \n",
    "    return params_values, cost_history, accuracy_history"
   ]
  },
  {
   "cell_type": "code",
   "execution_count": 32,
   "id": "cb595ad4-481c-44f7-b55c-4260ccfc8854",
   "metadata": {},
   "outputs": [],
   "source": [
    "SUBSET_SIZE = 10000\n",
    "X_train = X_train[:,:SUBSET_SIZE]\n",
    "y_train = y_train[:,:SUBSET_SIZE]"
   ]
  },
  {
   "cell_type": "code",
   "execution_count": 33,
   "id": "50f00263-f1a6-4528-b73a-ced3738a6c1f",
   "metadata": {},
   "outputs": [
    {
     "name": "stdout",
     "output_type": "stream",
     "text": [
      "Iteration: 00000 - cost: 18.05769 - accuracy: 0.09350\n",
      "Iteration: 00005 - cost: 6.55857 - accuracy: 0.34620\n",
      "Iteration: 00010 - cost: 1.29068 - accuracy: 0.67030\n",
      "Iteration: 00015 - cost: 1.01207 - accuracy: 0.73030\n",
      "Iteration: 00020 - cost: 0.85441 - accuracy: 0.76560\n",
      "Iteration: 00025 - cost: 0.75597 - accuracy: 0.78840\n",
      "Iteration: 00030 - cost: 0.68273 - accuracy: 0.80950\n",
      "Iteration: 00035 - cost: 0.62498 - accuracy: 0.82370\n",
      "Iteration: 00040 - cost: 0.57798 - accuracy: 0.83580\n",
      "Iteration: 00045 - cost: 0.53846 - accuracy: 0.84670\n",
      "Iteration: 00050 - cost: 0.50445 - accuracy: 0.85660\n",
      "Iteration: 00055 - cost: 0.47479 - accuracy: 0.86430\n",
      "Iteration: 00060 - cost: 0.44866 - accuracy: 0.87120\n",
      "Iteration: 00065 - cost: 0.42536 - accuracy: 0.87710\n",
      "Iteration: 00070 - cost: 0.40445 - accuracy: 0.88430\n",
      "Iteration: 00075 - cost: 0.38556 - accuracy: 0.88860\n",
      "Iteration: 00080 - cost: 0.36836 - accuracy: 0.89520\n",
      "Iteration: 00085 - cost: 0.35262 - accuracy: 0.89900\n",
      "Iteration: 00090 - cost: 0.33812 - accuracy: 0.90310\n",
      "Iteration: 00095 - cost: 0.32469 - accuracy: 0.90650\n"
     ]
    }
   ],
   "source": [
    "params_values, cost_history, accuracy_history = train(X_train, y_train, NN_ARCHITECTURE, 100, 0.01, verbose=True)"
   ]
  },
  {
   "cell_type": "code",
   "execution_count": 34,
   "id": "bf3c8a90-2b82-46f3-b51e-d009c09490cf",
   "metadata": {},
   "outputs": [
    {
     "name": "stdout",
     "output_type": "stream",
     "text": [
      "0.8602857142857143\n"
     ]
    }
   ],
   "source": [
    "y_test_hat, _ = full_forward_propagation(X_test, params_values, NN_ARCHITECTURE)\n",
    "accuracy = multi_class_accuracy(y_test_hat, y_test)\n",
    "print(accuracy)"
   ]
  },
  {
   "cell_type": "code",
   "execution_count": null,
   "id": "aadca41c-55b9-47be-aab9-e79c7a5f936c",
   "metadata": {},
   "outputs": [],
   "source": []
  }
 ],
 "metadata": {
  "kernelspec": {
   "display_name": "Python 3 (ipykernel)",
   "language": "python",
   "name": "python3"
  },
  "language_info": {
   "codemirror_mode": {
    "name": "ipython",
    "version": 3
   },
   "file_extension": ".py",
   "mimetype": "text/x-python",
   "name": "python",
   "nbconvert_exporter": "python",
   "pygments_lexer": "ipython3",
   "version": "3.8.13"
  }
 },
 "nbformat": 4,
 "nbformat_minor": 5
}
