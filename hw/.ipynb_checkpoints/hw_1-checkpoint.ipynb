{
  "cells": [
    {
      "cell_type": "markdown",
      "metadata": {
        "id": "SPoOIJ2esxuJ"
      },
      "source": [
        "**Variant 1**\n",
        "\n",
        "2D transform\n",
        "\n",
        "Perspective Transformation"
      ]
    },
    {
      "cell_type": "code",
      "execution_count": 6,
      "metadata": {
        "id": "Z3gnKs61Pwqb",
        "outputId": "f9de18b9-5861-44c2-fa8b-315504314807",
        "colab": {
          "base_uri": "https://localhost:8080/"
        }
      },
      "outputs": [
        {
          "output_type": "stream",
          "name": "stdout",
          "text": [
            "Looking in indexes: https://pypi.org/simple, https://us-python.pkg.dev/colab-wheels/public/simple/\n",
            "Requirement already satisfied: numpy in /usr/local/lib/python3.9/dist-packages (1.22.4)\n",
            "Looking in indexes: https://pypi.org/simple, https://us-python.pkg.dev/colab-wheels/public/simple/\n",
            "Requirement already satisfied: pygame in /usr/local/lib/python3.9/dist-packages (2.3.0)\n"
          ]
        }
      ],
      "source": [
        "import sys\n",
        "!{sys.executable} -m pip install numpy\n",
        "!{sys.executable} -m pip install pygame"
      ]
    },
    {
      "cell_type": "code",
      "source": [
        "import pygame\n",
        "import numpy as np\n",
        "from pygame.math import Vector2\n",
        "\n",
        "# initial configurations\n",
        "pygame.init()\n",
        "WIDTH = 800\n",
        "HEIGHT = 600\n",
        "WHITE = (255, 255, 255)\n",
        "BLACK = (0, 0, 0)\n",
        "rectangles = []\n",
        "selected_rect = None\n",
        "\n",
        "# creating a window\n",
        "screen = pygame.display.set_mode((WIDTH, HEIGHT))\n",
        "pygame.display.set_caption(\"2D transform editor\")\n",
        "\n",
        "# function that applies a 2D transformation to a rectangle\n",
        "def transform_rect(rect, matrix):\n",
        "  # the rectangle coordinate matrix\n",
        "  vertices = np.array([[rect.left, rect.top, 1],\n",
        "  [rect.right, rect.top, 1],\n",
        "  [rect.right, rect.bottom, 1],\n",
        "  [rect.left, rect.bottom, 1]])\n",
        "\n",
        "  transformed_vertices = vertices.dot(matrix)\n",
        "\n",
        "  # new rectangle based on new coordinates\n",
        "  new_rect = pygame.Rect(0, 0, 0, 0)\n",
        "  new_rect.left = int(transformed_vertices[0][0])\n",
        "  new_rect.top = int(transformed_vertices[0][1])\n",
        "  new_rect.right = int(transformed_vertices[1][0])\n",
        "  new_rect.bottom = int(transformed_vertices[2][1])\n",
        "\n",
        "  return new_rect\n",
        "\n",
        "# function that displays a list of rectangles on the screen\n",
        "def draw_rectangles():\n",
        "  for rect in rectangles:\n",
        "    if rect == selected_rect:\n",
        "      pygame.draw.rect(screen, BLACK, rect, 2)\n",
        "    else:\n",
        "      pygame.draw.rect(screen, BLACK, rect)\n",
        "\n",
        "while True:\n",
        "  for event in pygame.event.get():\n",
        "    if event.type == pygame.QUIT:\n",
        "      running = False\n",
        "    elif event.type == pygame.MOUSEBUTTONDOWN:\n",
        "      # creating a new rectangle with a mouse click\n",
        "      mouse_pos = Vector2(pygame.mouse.get_pos())\n",
        "      new_rect = pygame.Rect(mouse_pos.x, mouse_pos.y, 50, 50)\n",
        "      rectangles.append(new_rect)\n",
        "      selected_rect = new_rect\n",
        "    elif event.type == pygame.KEYDOWN:\n",
        "      # changing the rectangle's pose using the keys\n",
        "      if event.key == pygame.K_UP:\n",
        "        matrix = np.array([[1, 0, 0],\n",
        "        [0, 1, -5],\n",
        "        [0, 0, 1]])\n",
        "        selected_rect = transform_rect(selected_rect, matrix)\n",
        "      elif event.key == pygame.K_DOWN:\n",
        "        matrix = np.array([[1, 0, 0],\n",
        "        [0, 1, 5],\n",
        "        [0, 0, 1]])\n",
        "        selected_rect = transform_rect(selected_rect, matrix)\n",
        "      elif event.key == pygame.K_LEFT:\n",
        "        matrix = np.array([[1, 0, -5],\n",
        "        [0, 1, 0],\n",
        "        [0, 0, 1]])\n",
        "        selected_rect = transform_rect(selected_rect, matrix)\n",
        "      elif event.key == pygame.K_RIGHT:\n",
        "        matrix = np.array([[1, 0, 5],\n",
        "        [0, 1, 0],\n",
        "        [0, 0, 1]])\n",
        "        selected_rect = transform_rect(selected_rect, matrix)\n",
        "      elif event.key == pygame.K_w:\n",
        "        matrix = np.array([[1, -0.1, 0],\n",
        "        [0, 1, 0],\n",
        "        [0, 0, 1]])\n",
        "        selected_rect = transform_rect(selected_rect, matrix)\n",
        "      elif event.key == pygame.K_s:\n",
        "        matrix = np.array([[1, 0.1, 0],\n",
        "        [0, 1, 0],\n",
        "        [0, 0, 1]])\n",
        "        selected_rect = transform_rect(selected_rect, matrix)\n",
        "      elif event.key == pygame.K_d:\n",
        "        matrix = np.array([[np.cos(-np.pi/6), -np.sin(-np.pi/6), 0],\n",
        "        [np.sin(-np.pi/6), np.cos(-np.pi/6), 0],\n",
        "        [0, 0, 1]])\n",
        "        selected_rect = transform_rect(selected_rect, matrix)\n",
        "      elif event.key == pygame.K_a:\n",
        "        matrix = np.array([[np.cos(np.pi/6), -np.sin(np.pi/6), 0],\n",
        "        [np.sin(np.pi/6), np.cos(np.pi/6), 0],\n",
        "        [0, 0, 1]])\n",
        "        selected_rect = transform_rect(selected_rect, matrix)\n",
        "\n",
        "screen.fill(WHITE)\n",
        "draw_rectangles()\n",
        "pygame.display.flip()\n",
        "pygame.quit()"
      ],
      "metadata": {
        "colab": {
          "base_uri": "https://localhost:8080/",
          "height": 235
        },
        "id": "fX2jOCVPvpVC",
        "outputId": "af6a8cd3-d793-418e-b1e3-85702cc1d811"
      },
      "execution_count": 7,
      "outputs": [
        {
          "output_type": "error",
          "ename": "error",
          "evalue": "ignored",
          "traceback": [
            "\u001b[0;31m---------------------------------------------------------------------------\u001b[0m",
            "\u001b[0;31merror\u001b[0m                                     Traceback (most recent call last)",
            "\u001b[0;32m<ipython-input-7-6efcd434f367>\u001b[0m in \u001b[0;36m<module>\u001b[0;34m\u001b[0m\n\u001b[1;32m     15\u001b[0m \u001b[0;34m\u001b[0m\u001b[0m\n\u001b[1;32m     16\u001b[0m \u001b[0;31m# создание окна\u001b[0m\u001b[0;34m\u001b[0m\u001b[0;34m\u001b[0m\u001b[0m\n\u001b[0;32m---> 17\u001b[0;31m \u001b[0mscreen\u001b[0m \u001b[0;34m=\u001b[0m \u001b[0mpygame\u001b[0m\u001b[0;34m.\u001b[0m\u001b[0mdisplay\u001b[0m\u001b[0;34m.\u001b[0m\u001b[0mset_mode\u001b[0m\u001b[0;34m(\u001b[0m\u001b[0;34m(\u001b[0m\u001b[0mWIDTH\u001b[0m\u001b[0;34m,\u001b[0m \u001b[0mHEIGHT\u001b[0m\u001b[0;34m)\u001b[0m\u001b[0;34m)\u001b[0m\u001b[0;34m\u001b[0m\u001b[0;34m\u001b[0m\u001b[0m\n\u001b[0m\u001b[1;32m     18\u001b[0m \u001b[0mpygame\u001b[0m\u001b[0;34m.\u001b[0m\u001b[0mdisplay\u001b[0m\u001b[0;34m.\u001b[0m\u001b[0mset_caption\u001b[0m\u001b[0;34m(\u001b[0m\u001b[0;34m\"Редактор 2D-преобразований\"\u001b[0m\u001b[0;34m)\u001b[0m\u001b[0;34m\u001b[0m\u001b[0;34m\u001b[0m\u001b[0m\n\u001b[1;32m     19\u001b[0m \u001b[0;34m\u001b[0m\u001b[0m\n",
            "\u001b[0;31merror\u001b[0m: No available video device"
          ]
        }
      ]
    }
  ],
  "metadata": {
    "colab": {
      "provenance": []
    },
    "kernelspec": {
      "display_name": "Python 3 (ipykernel)",
      "language": "python",
      "name": "python3"
    },
    "language_info": {
      "codemirror_mode": {
        "name": "ipython",
        "version": 3
      },
      "file_extension": ".py",
      "mimetype": "text/x-python",
      "name": "python",
      "nbconvert_exporter": "python",
      "pygments_lexer": "ipython3",
      "version": "3.10.6"
    }
  },
  "nbformat": 4,
  "nbformat_minor": 0
}